{
 "cells": [
  {
   "attachments": {},
   "cell_type": "markdown",
   "metadata": {},
   "source": [
    "# getting started\n",
    "If you have mamba or conda installed you can use the cell below to create an environment that can be used to run this jupyter notebook in jupyter or vscode\n",
    "```python\n",
    "mamba env create --file './nostr.yml'\n",
    "mamba activate nostr\n",
    "```\n",
    "or\n",
    "```python\n",
    "conda env create --file './nostr.yml'\n",
    "conda activate nostr\n",
    "```"
   ]
  },
  {
   "attachments": {},
   "cell_type": "markdown",
   "metadata": {},
   "source": [
    "# python-nostr examples\n",
    "this notebook serves as a set of interactive examples to highlight how nostr and python-nostr work. the cell below will make sure this library is in your python path"
   ]
  },
  {
   "cell_type": "code",
   "execution_count": 1,
   "metadata": {},
   "outputs": [
    {
     "name": "stdout",
     "output_type": "stream",
     "text": [
      "['/Users/ryanarmstrong/Documents/01_Programming/GitHub/python-nostr/example_nbs', '/Users/ryanarmstrong/mambaforge/envs/nostr/lib/python310.zip', '/Users/ryanarmstrong/mambaforge/envs/nostr/lib/python3.10', '/Users/ryanarmstrong/mambaforge/envs/nostr/lib/python3.10/lib-dynload', '', '/Users/ryanarmstrong/mambaforge/envs/nostr/lib/python3.10/site-packages', '/Users/ryanarmstrong/Documents/01_Programming/GitHub/python-nostr']\n"
     ]
    }
   ],
   "source": [
    "import sys\n",
    "from pathlib import Path\n",
    "sys.path.append(str(Path('../').resolve()))\n",
    "print(sys.path)"
   ]
  },
  {
   "attachments": {},
   "cell_type": "markdown",
   "metadata": {},
   "source": [
    "\n",
    "## key management\n",
    "python-nostr has basic key management capabilities to generate new private keys or load existing keys.\n",
    "The base key class is instantiated with raw_bytes - if you are loading an existing hex key you can use `Key.raw_bytes_from_hex()`\n",
    "\n",
    "The `PublicKey` and `PrivateKey` classes inherit these capabilities. The bech32 representation of the private and public key (i.e. npub... and nsec...) are defined in each class respectively.\n",
    "\n",
    "**change log from original repo:**\n",
    " - Added base Key class to manage shared methods\n",
    " - Added hex to key method\n",
    " - Changed `raw_secret` to `raw_bytes` in `PrivateKey` to keep classes consistent\n",
    "    - this change helps the code, but does it add some risk to users?"
   ]
  },
  {
   "cell_type": "code",
   "execution_count": 2,
   "metadata": {},
   "outputs": [
    {
     "name": "stdout",
     "output_type": "stream",
     "text": [
      "this is the raw bytes of a key: b'X\\xcbX\\x18\\xc0\\x08\\xce\\xd8\\x83\\xc5\\xe1\\xb6 \\xac\\xc7q\\x93\\xd0N\\xb2\\x96N\"\\x90I\\xce\\xc1I\\x1c[\\x19C'\n",
      "this is the hex of the same key: 58cb5818c008ced883c5e1b620acc77193d04eb2964e229049cec1491c5b1943\n",
      "bech32 prefix not defined for type <class 'nostr.key.Key'>\n"
     ]
    }
   ],
   "source": [
    "from pathlib import Path\n",
    "import secrets\n",
    "from nostr.key import Key, PrivateKey, PublicKey\n",
    "\n",
    "base_key = Key(secrets.token_bytes(32))\n",
    "print(f'this is the raw bytes of a key: {base_key.raw_bytes}\\n'\n",
    "      f'this is the hex of the same key: {base_key.hex()}')\n",
    "\n",
    "assert base_key.hex() == Key.raw_bytes_from_hex(base_key.hex()).hex()\n",
    "assert issubclass(PrivateKey, Key) and issubclass(PublicKey, Key)\n",
    "\n",
    "try:\n",
    "      base_key.bech32()\n",
    "except ValueError as e:\n",
    "      print(e)"
   ]
  },
  {
   "attachments": {},
   "cell_type": "markdown",
   "metadata": {},
   "source": [
    "Below we use the `PrivateKey` class to make a private key or load it from a file on disk. We can also confirm that the private and public key representations start with the appropriate characters (npub and nsec)"
   ]
  },
  {
   "cell_type": "code",
   "execution_count": 3,
   "metadata": {},
   "outputs": [
    {
     "name": "stdout",
     "output_type": "stream",
     "text": [
      "Loaded private key from private_key.txt\n",
      "Public key: npub19nqc7plddvevd8sgfpahzuput0q9hwrfhk8crj9k73fpg8qwjx3sk6224n\n"
     ]
    }
   ],
   "source": [
    "key_file = Path('./private_key.txt') # saving a private key for testing\n",
    "\n",
    "if not key_file.exists():\n",
    "    private_key = PrivateKey()\n",
    "    public_key = private_key.public_key\n",
    "    print(f\"Generated new private key\")\n",
    "    print(f\"Public key: {public_key.bech32()}\")\n",
    "    with open(key_file, 'w') as f:\n",
    "        f.write(private_key.raw_bytes.hex())\n",
    "else:\n",
    "    with open(key_file, 'r') as f:\n",
    "        hex = f.read()\n",
    "        # private_key = PrivateKey(bytes.fromhex(hex))\n",
    "        private_key = PrivateKey.raw_bytes_from_hex(hex)\n",
    "    public_key = private_key.public_key\n",
    "    print(f'Loaded private key from {key_file}')\n",
    "    print(f'Public key: {public_key.bech32()}')\n",
    "\n",
    "assert private_key.bech32()[:4]=='nsec' and public_key.bech32()[:4]=='npub'"
   ]
  },
  {
   "attachments": {},
   "cell_type": "markdown",
   "metadata": {},
   "source": [
    "## relay manangement\n",
    "Next let's instantiate a `RelayManager` and add a couple relay urls. We are going to set one to not write and see what happens"
   ]
  },
  {
   "cell_type": "code",
   "execution_count": 4,
   "metadata": {},
   "outputs": [],
   "source": [
    "from nostr.relay_manager import RelayManager, Relay\n",
    "\n",
    "relay_manager = RelayManager()\n",
    "relay_manager.add_relay('wss://nostr-2.zebedee.cloud')\n",
    "relay_manager.add_relay('wss://nostr.zebedee.cloud')\n",
    "relay_manager.add_relay('wss://nostr-relay.lnmarkets.com', write=False)"
   ]
  },
  {
   "attachments": {},
   "cell_type": "markdown",
   "metadata": {},
   "source": [
    "the relay manager keeps all of the `Relay` objects in a dict keyed by the url. Let's look at some of the properties of the relays we added before we actually do anything\n",
    "\n",
    "**changelog from original repo:**\n",
    " - added `__repr__` of json object for relay"
   ]
  },
  {
   "cell_type": "code",
   "execution_count": 5,
   "metadata": {},
   "outputs": [
    {
     "name": "stdout",
     "output_type": "stream",
     "text": [
      "{\n",
      "  \"url\": \"wss://nostr-2.zebedee.cloud\",\n",
      "  \"policy\": {\n",
      "    \"read\": true,\n",
      "    \"write\": true\n",
      "  },\n",
      "  \"subscriptions\": []\n",
      "} \n",
      "\n",
      "\n",
      "{\n",
      "  \"url\": \"wss://nostr.zebedee.cloud\",\n",
      "  \"policy\": {\n",
      "    \"read\": true,\n",
      "    \"write\": true\n",
      "  },\n",
      "  \"subscriptions\": []\n",
      "} \n",
      "\n",
      "\n",
      "{\n",
      "  \"url\": \"wss://nostr-relay.lnmarkets.com\",\n",
      "  \"policy\": {\n",
      "    \"read\": true,\n",
      "    \"write\": false\n",
      "  },\n",
      "  \"subscriptions\": []\n",
      "} \n",
      "\n",
      "\n"
     ]
    }
   ],
   "source": [
    "for url, relay in relay_manager.relays.items():\n",
    "    print(relay, '\\n\\n')\n",
    "    assert type(relay) == Relay and url == relay.url\n"
   ]
  },
  {
   "attachments": {},
   "cell_type": "markdown",
   "metadata": {},
   "source": [
    "Now we can connect - in this case we will connect and test that all relays have a websocket (just a naive test that they are not None when open and are None when closed).\n",
    "\n",
    "**changelog from original repo:**\n",
    " - added a connection context for easier operations\n",
    "    - is this actually helpful in context of nostr?\n"
   ]
  },
  {
   "cell_type": "code",
   "execution_count": 6,
   "metadata": {},
   "outputs": [],
   "source": [
    "import ssl\n",
    "from nostr.relay_manager import Connection\n",
    "\n",
    "with relay_manager.connection({\"cert_reqs\": ssl.CERT_NONE}): # NOTE: This disables ssl certificate verification\n",
    "    for relay in relay_manager.relays.values():\n",
    "        assert relay.ws.sock is not None\n",
    "\n",
    "for relay in relay_manager.relays.values():\n",
    "    assert relay.ws.sock is None"
   ]
  },
  {
   "attachments": {},
   "cell_type": "markdown",
   "metadata": {},
   "source": [
    "## writing to the relays"
   ]
  },
  {
   "cell_type": "code",
   "execution_count": 7,
   "metadata": {},
   "outputs": [],
   "source": [
    "import json \n",
    "import ssl\n",
    "import time\n",
    "from nostr.event import Event\n",
    "from nostr.relay_manager import RelayManager\n",
    "from nostr.message_type import ClientMessageType\n",
    "from nostr.key import PrivateKey\n",
    "\n",
    "\n",
    "event = Event(private_key.public_key.hex(), \"Hello Nostr - testing from python-nostr\")\n",
    "event.sign(private_key.hex())\n",
    "\n",
    "message = json.dumps([ClientMessageType.EVENT, event.to_json_object()])\n",
    "\n",
    "with relay_manager.connection({\"cert_reqs\": ssl.CERT_NONE}): # NOTE: This disables ssl certificate verification\n",
    "    time.sleep(2)\n",
    "    relay_manager.publish_message(message)\n",
    "    time.sleep(1) # allow the messages to send"
   ]
  },
  {
   "attachments": {},
   "cell_type": "markdown",
   "metadata": {},
   "source": [
    "## requesting from the relays\n",
    "we can use python-nostr to make requests to send to the relays. First we will try to request the event id we just published.\n",
    "\n",
    "> **_NOTE:_** when an event is processed by python noster it's ID is stored in `RelayManager.message_pool._unique_events`. This ID won't get processed a second time. If you are just exploring in a notebook like this you will need to clear this attribue to process the event a second time."
   ]
  },
  {
   "cell_type": "code",
   "execution_count": 8,
   "metadata": {},
   "outputs": [
    {
     "name": "stdout",
     "output_type": "stream",
     "text": [
      "the request is: ['REQ', 'single_event', {'ids': ['235bfa0ecbc1f8126634ada51397e15d25f1972e23396982333dc7fbbd203f2c']}]\n",
      "the message to the relay is: [\"REQ\", \"single_event\", {\"ids\": [\"235bfa0ecbc1f8126634ada51397e15d25f1972e23396982333dc7fbbd203f2c\"]}]\n",
      "The following subscriptions have been added to relays:\n",
      "wss://nostr-2.zebedee.cloud: {'id': 'single_event', 'filters': [{'ids': ['235bfa0ecbc1f8126634ada51397e15d25f1972e23396982333dc7fbbd203f2c']}]}\n",
      "wss://nostr.zebedee.cloud: {'id': 'single_event', 'filters': [{'ids': ['235bfa0ecbc1f8126634ada51397e15d25f1972e23396982333dc7fbbd203f2c']}]}\n",
      "wss://nostr-relay.lnmarkets.com: {'id': 'single_event', 'filters': [{'ids': ['235bfa0ecbc1f8126634ada51397e15d25f1972e23396982333dc7fbbd203f2c']}]}\n"
     ]
    }
   ],
   "source": [
    "import json\n",
    "import ssl\n",
    "import time\n",
    "from nostr.filter import Filter, Filters\n",
    "from nostr.event import Event, EventKind\n",
    "from nostr.relay_manager import RelayManager\n",
    "from nostr.message_type import ClientMessageType\n",
    "\n",
    "\n",
    "filters = Filters([Filter(ids=[event.id])])\n",
    "subscription_id = 'single_event'\n",
    "request = [ClientMessageType.REQUEST, subscription_id]\n",
    "request.extend(filters.to_json_array())\n",
    "message = json.dumps(request)\n",
    "\n",
    "# checking what we made above\n",
    "print(f'the request is: {request}')\n",
    "print(f'the message to the relay is: {message}')\n",
    "\n",
    "relay_manager.add_subscription(subscription_id, filters)\n",
    "print('The following subscriptions have been added to relays:')\n",
    "for url, relay in relay_manager.relays.items():\n",
    "    print(f'{url}:', relay.subscriptions.get(subscription_id)\n",
    "                                  .to_json_object())"
   ]
  },
  {
   "cell_type": "code",
   "execution_count": 9,
   "metadata": {},
   "outputs": [
    {
     "name": "stdout",
     "output_type": "stream",
     "text": [
      "0 events already received\n",
      "\n",
      "{'id': '235bfa0ecbc1f8126634ada51397e15d25f1972e23396982333dc7fbbd203f2c', 'pubkey': '2cc18f07ed6b32c69e08487b71703c5bc05bb869bd8f81c8b6f452141c0e91a3', 'created_at': 1671997215, 'kind': 1, 'tags': [], 'content': 'Hello Nostr - testing from python-nostr', 'sig': '473fce768882aabffaebbaf4cd894bc4cc55e5c3d962ab3e7fad4de96bd8afcd97c1faacb95f6662a02b6f0bd32b291955b755052e63b7748f31816171696790'}\n",
      "single_event\n"
     ]
    }
   ],
   "source": [
    "import warnings\n",
    "\n",
    "with Connection(relay_manager, {\"cert_reqs\": ssl.CERT_NONE}): # NOTE: This disables ssl certificate verification\n",
    "  previous_event_ids = len(relay_manager.message_pool._unique_events)\n",
    "  print(f'{previous_event_ids} events already received\\n')\n",
    "  if event.id in relay_manager.message_pool._unique_events:\n",
    "    warnings.warn(f'event {event.id} has already been processed and won\\'t display below. '\n",
    "                   'Please reinitiate the message pool to receive it again')\n",
    "                   \n",
    "  time.sleep(1.25) # allow the connections to open\n",
    "  relay_manager.publish_message(message)\n",
    "  time.sleep(1) # allow the messages to send\n",
    "\n",
    "  while relay_manager.message_pool.has_events():\n",
    "    event_msg = relay_manager.message_pool.get_event()\n",
    "    print(event_msg.event.to_json_object())\n",
    "  while relay_manager.message_pool.has_notices():\n",
    "    notice_msg = relay_manager.message_pool.get_notice()\n",
    "    print(notice_msg.event.to_json_object())\n",
    "  while relay_manager.message_pool.has_eose_notices():\n",
    "    eose_notice_msg = relay_manager.message_pool.get_eose_notice()\n",
    "    print(eose_notice_msg.subscription_id)"
   ]
  },
  {
   "attachments": {},
   "cell_type": "markdown",
   "metadata": {},
   "source": [
    "Now let's try to request the last 10 events from a user\n",
    "\n",
    "**TODO:** add other event types and examples below"
   ]
  },
  {
   "cell_type": "code",
   "execution_count": 10,
   "metadata": {},
   "outputs": [
    {
     "name": "stdout",
     "output_type": "stream",
     "text": [
      "the request is: ['REQ', 'last10_armstrys', {'kinds': [<EventKind.TEXT_NOTE: 1>], 'authors': ['c80b5248fbe8f392bc3ba45091fb4e6e2b5872387601bf90f53992366b30d720'], 'limit': 10}]\n",
      "the message to the relay is: [\"REQ\", \"last10_armstrys\", {\"kinds\": [1], \"authors\": [\"c80b5248fbe8f392bc3ba45091fb4e6e2b5872387601bf90f53992366b30d720\"], \"limit\": 10}]\n",
      "The following subscriptions have been added to relays:\n",
      "wss://nostr-2.zebedee.cloud: {'id': 'last10_armstrys', 'filters': [{'kinds': [<EventKind.TEXT_NOTE: 1>], 'authors': ['c80b5248fbe8f392bc3ba45091fb4e6e2b5872387601bf90f53992366b30d720'], 'limit': 10}]}\n",
      "wss://nostr.zebedee.cloud: {'id': 'last10_armstrys', 'filters': [{'kinds': [<EventKind.TEXT_NOTE: 1>], 'authors': ['c80b5248fbe8f392bc3ba45091fb4e6e2b5872387601bf90f53992366b30d720'], 'limit': 10}]}\n",
      "wss://nostr-relay.lnmarkets.com: {'id': 'last10_armstrys', 'filters': [{'kinds': [<EventKind.TEXT_NOTE: 1>], 'authors': ['c80b5248fbe8f392bc3ba45091fb4e6e2b5872387601bf90f53992366b30d720'], 'limit': 10}]}\n"
     ]
    }
   ],
   "source": [
    "import json\n",
    "import ssl\n",
    "import time\n",
    "from nostr.filter import Filter, Filters\n",
    "from nostr.event import Event, EventKind\n",
    "from nostr.relay_manager import RelayManager\n",
    "from nostr.message_type import ClientMessageType\n",
    "\n",
    "\n",
    "filters = Filters([Filter(authors=['c80b5248fbe8f392bc3ba45091fb4e6e2b5872387601bf90f53992366b30d720'],\n",
    "                          kinds=[EventKind.TEXT_NOTE],\n",
    "                          limit=10\n",
    "                          )])\n",
    "subscription_id = 'last10_armstrys'\n",
    "request = [ClientMessageType.REQUEST, subscription_id]\n",
    "request.extend(filters.to_json_array())\n",
    "message = json.dumps(request)\n",
    "\n",
    "# checking what we made above\n",
    "print(f'the request is: {request}')\n",
    "print(f'the message to the relay is: {message}')\n",
    "\n",
    "relay_manager.add_subscription(subscription_id, filters)\n",
    "print('The following subscriptions have been added to relays:')\n",
    "for url, relay in relay_manager.relays.items():\n",
    "    print(f'{url}:', relay.subscriptions.get(subscription_id)\n",
    "                                  .to_json_object())"
   ]
  },
  {
   "cell_type": "code",
   "execution_count": 11,
   "metadata": {},
   "outputs": [
    {
     "name": "stdout",
     "output_type": "stream",
     "text": [
      "1 events already received\n",
      "\n",
      "{'id': '80eb69eb0bb3fb723793b0a3a64ee3e9d4c82858fde57e24e512c17ae065c1f2', 'pubkey': 'c80b5248fbe8f392bc3ba45091fb4e6e2b5872387601bf90f53992366b30d720', 'created_at': 1671603398, 'kind': 1, 'tags': [['e', 'a04a2834cd3dde0240a4bc005f2f0d28f7ce1407aa7432637652518561ee5f8f'], ['e', 'acc16aa9e37542b90bb3679108d646befca0232dcebcacfa1fa3dbdd152adc85'], ['p', 'ba67bf89761da5ed59966077c4d514e94bb11195ce81d252572e3bac14e6803b']], 'content': 'yes, astral.ninja is an example of a client that allows you to change. I think it maybe be coming to Damus soon along with a few other features, but unsure', 'sig': '72fbe7df8593c28ac1c06cb2a4d85e502fcff34a9e02b5722ac2435f588b70fb19e7c43949c2741bf19b1b4f46da8db2dbddc4463b2da1b57b2fc41f3c3893f1'}\n",
      "{'id': '22c6b307cc8aa2d434a292258109b83e3e96befe04b9a342fde7ca5be8154683', 'pubkey': 'c80b5248fbe8f392bc3ba45091fb4e6e2b5872387601bf90f53992366b30d720', 'created_at': 1671565919, 'kind': 1, 'tags': [['e', '307c775e05d43368dc5ac3a7deeecbfb67e1e0c2f3ff933438bb13e01cb635d1', 'wss://nostr.oxtr.dev'], ['e', '217d648afcaaf54358f4e12b1fc86d7dbaa5a6731c6b32e83efe40aa785979f0'], ['p', '246ca9df2cea8a42e647ea9597fb21e18737d46c4114773214a929e9799031b8']], 'content': 'I guess I’m not understanding why it would work so well for a few days with 1-2 sat invoices and then hit me with 210 all of a sudden', 'sig': '2c99fce25e953397f62bdf354292ac9840a03483eb6cd8a22d9de37e9edbd29d2a9c86ace7c124b2e5ce47a5944611789436a7a99aba6652ea96362b319b4bd6'}\n",
      "{'id': '307c775e05d43368dc5ac3a7deeecbfb67e1e0c2f3ff933438bb13e01cb635d1', 'pubkey': 'c80b5248fbe8f392bc3ba45091fb4e6e2b5872387601bf90f53992366b30d720', 'created_at': 1671565371, 'kind': 1, 'tags': [], 'content': 'anyone know why some of the invoices I’m trying to pay via Muun have ballooned to like 210 sat routing fees? Are they mad at me for paying too many invoices on nostr?', 'sig': '6afaeea73ae6b12fea258579bcb94e9115bbf9632dd87680d7cb0a1c2d411ccfabdca2ae1d4f7bc672cf299539294945621a72a8147243354ec060d0550096c3'}\n",
      "{'id': '0028526512520abb7f41d7ba106b1ba59f334a76f1d1be3234c1b2315ac8fffa', 'pubkey': 'c80b5248fbe8f392bc3ba45091fb4e6e2b5872387601bf90f53992366b30d720', 'created_at': 1671463392, 'kind': 1, 'tags': [['client', 'astral']], 'content': 'anigma.io really did get much more stable overnight. The devs working on nostr clients are doing a great job pushing this forward even in the face of rapid growth!', 'sig': '23254d0e7c094da73d2ee9410555daa15c1ea9b77fe58f3d09274047580fe5d159cb6040669f310a1fe85005b5fb9d95b93e2ecba38616e6c04b27ed1984d08d'}\n",
      "{'id': '5976e0ff52b2fbbdef606746fd9d79cf629de28d4efce15aabafc471d3dacbc2', 'pubkey': 'c80b5248fbe8f392bc3ba45091fb4e6e2b5872387601bf90f53992366b30d720', 'created_at': 1671463177, 'kind': 1, 'tags': [['p', 'eaf27aa104833bcd16f671488b01d65f6da30163b5848aea99677cc947dd00aa', 'wss://nostr-relay.lnmarkets.com'], ['p', '04c915daefee38317fa734444acee390a8269fe5810b2241e5e6dd343dfbecc9', 'wss://nostr-relay.lnmarkets.com'], ['e', '033a0af47445feb8696e0de5087f9c071a10930f135b9cc1215ae901aaccb289', 'wss://relay.damus.io', 'root'], ['e', 'a7e13b608b78e954b1e27c08827f0f2372cd52cb918ce2d5e6062f1e5f232a3e', 'wss://nostr-relay.lnmarkets.com', 'reply'], ['client', 'astral']], 'content': \"It's custodial, but you should check out the LN bits integration in anigma.io\\n\\nAlso from what I've heard you can use alby to manage your private key on those web clients, which is an interesting twist\", 'sig': '7e13b227613da69cdfc163bb34d71292a931cc2d2274312a77b6019d85d9c38fc1e015b111a531b08a1bdd5b092d79f6bda970121f678cd7f66f272846296e3a'}\n",
      "{'id': '6273c5e1a060dcc24be6076c0305a9e4307ea8ff20f919ef3f06acd135e9675b', 'pubkey': 'c80b5248fbe8f392bc3ba45091fb4e6e2b5872387601bf90f53992366b30d720', 'created_at': 1671458972, 'kind': 1, 'tags': [['e', '0c66cce03209c8133511cea460dceeeea46f791a1ea930c259399a310a78f299', 'wss://nostr-relay.wlvs.space'], ['e', 'f6982325a8748e425a16fba29f8c33953ffb8f5e833cec4aaadc6a9cc87305ca'], ['p', 'c4bd848b57dea84773b78f0511516451ae925d8327bd8d2e31aa97d27c0b41aa']], 'content': '❌ looks like the fake dev spam has arrived. Need mutes/blocks soon', 'sig': 'fd42688f55a4848aa088bf16183685979a147952825a80a9100a833de26371eeabf26cba637049d07280d28327ca8828f91432c7bea7f709752f23abb37d5759'}\n",
      "{'id': '2a475a6c21888d029959c6268f273f8520f68162e1470a640526985b533d6065', 'pubkey': 'c80b5248fbe8f392bc3ba45091fb4e6e2b5872387601bf90f53992366b30d720', 'created_at': 1671413608, 'kind': 1, 'tags': [['e', 'ed4f3b931c70d175828a0fc2039ae75057e26f7996286e36e7b3fdb8e7b1e33b', 'wss://relay.damus.io'], ['e', 'e72d02005bca27e13514053d7c4ac770d9a550df17a18ae74c341673490e69ff'], ['p', '51b826cccd92569a6582e20982fd883fccfa78ad03e0241f7abec1830d7a2565'], ['p', '51b826cccd92569a6582e20982fd883fccfa78ad03e0241f7abec1830d7a2565'], ['p', '82341f882b6eabcd2ba7f1ef90aad961cf074af15b9ef44a09f9d2a8fbfbe6a2'], ['p', '8ac0e168c270eb5c216c6185c3f62d78a1ff470aa7aed34e4c94fc39f9546ba2'], ['p', 'c6edac24af554546533476c074099757017a4089150f7aca1df4a88174bdd169']], 'content': 'verification should be done by pubkey not display name. ', 'sig': '599363a2cdc7be45e66d3b89723730b7a02b2d9c8293e55a871596d12a1ecc1507473797925853daae07b0f3a9e31f865d18af31338d32d6ea7a2a6bd19457f0'}\n",
      "{'id': '378fb465b762125cdc91ecc5693cf68fbc3ab87beec5f186a42c1ef8c890b917', 'pubkey': 'c80b5248fbe8f392bc3ba45091fb4e6e2b5872387601bf90f53992366b30d720', 'created_at': 1671413544, 'kind': 1, 'tags': [['e', 'b0aa7a9b4f5002d96c2aa73adc41952266504fe69b020210623d64ba8b19d8d6'], ['p', '9c1b00932d56250b925ad71220d3d7e4c94809b0d5af2c4b5a530fd44fca226f']], 'content': 'hello dumb', 'sig': '1ac3ab21ab387407ce39eff75648d35beadb2de0b4e8cf2a9ce6be4a48d3b57e25836625dc4d4dce424ef7d560b91150636e496f581bf3c382ecb610316e940a'}\n",
      "{'id': 'ff1bef7cfa22ada32e489cb7e333d3308b60feabb2fcc5715a960945f625b057', 'pubkey': 'c80b5248fbe8f392bc3ba45091fb4e6e2b5872387601bf90f53992366b30d720', 'created_at': 1671412772, 'kind': 1, 'tags': [['e', '6717375662b966120041dbe5cad98d6704861d57589a40ad7cfc5e250d653511'], ['e', '98329f3e6075ea702a2d62b0bc1a7a183255d361c60d551a485ca63fb1c2e59e'], ['p', 'e88a691e98d9987c964521dff60025f60700378a4879180dcbbb4a5027850411'], ['p', '82341f882b6eabcd2ba7f1ef90aad961cf074af15b9ef44a09f9d2a8fbfbe6a2']], 'content': 'the flood gates have opened - thanks to you (and Elon?)', 'sig': '96048b97a0ae04eca7b2c281d88120119c9d28f1733366d2afed30df051bdd616e7b71dd729cf76709348ef0dcf303fe4b425357633995ee87b7effacae03cbb'}\n",
      "{'id': 'a0e5b8cc4950fee7d1b79c0859704a07aefbb50c00630df29f5658cb29e5e3f3', 'pubkey': 'c80b5248fbe8f392bc3ba45091fb4e6e2b5872387601bf90f53992366b30d720', 'created_at': 1671412706, 'kind': 1, 'tags': [], 'content': 'One day I will figure out why my username and profile pic don’t show up on Damus. Today is not that day', 'sig': '0d086f311cf055c6bdaa42c50c33c11328b57bb435f561ef2238b14e4ec8cf2f3a3bd0524caac9f96ac4c5bbfbe34e57799a75c07fbfe7c1da2d912b7979ec55'}\n",
      "last10_armstrys\n"
     ]
    }
   ],
   "source": [
    "import warnings\n",
    "\n",
    "with Connection(relay_manager, {\"cert_reqs\": ssl.CERT_NONE}): # NOTE: This disables ssl certificate verification\n",
    "  previous_event_ids = len(relay_manager.message_pool._unique_events)\n",
    "  print(f'{previous_event_ids} events already received\\n')\n",
    "\n",
    "  time.sleep(1.25) # allow the connections to open\n",
    "  relay_manager.publish_message(message)\n",
    "  time.sleep(1) # allow the messages to send\n",
    "  \n",
    "  while relay_manager.message_pool.has_events():\n",
    "    event_msg = relay_manager.message_pool.get_event()\n",
    "    print(event_msg.event.to_json_object())\n",
    "  while relay_manager.message_pool.has_notices():\n",
    "    notice_msg = relay_manager.message_pool.get_notice()\n",
    "    print(notice_msg.event.to_json_object())\n",
    "  while relay_manager.message_pool.has_eose_notices():\n",
    "    eose_notice_msg = relay_manager.message_pool.get_eose_notice()\n",
    "    print(eose_notice_msg.subscription_id)"
   ]
  },
  {
   "cell_type": "code",
   "execution_count": null,
   "metadata": {},
   "outputs": [],
   "source": []
  }
 ],
 "metadata": {
  "kernelspec": {
   "display_name": "nostr",
   "language": "python",
   "name": "python3"
  },
  "language_info": {
   "codemirror_mode": {
    "name": "ipython",
    "version": 3
   },
   "file_extension": ".py",
   "mimetype": "text/x-python",
   "name": "python",
   "nbconvert_exporter": "python",
   "pygments_lexer": "ipython3",
   "version": "3.10.8"
  },
  "orig_nbformat": 4,
  "vscode": {
   "interpreter": {
    "hash": "cfb5954440880a8bdfa8cd43661a47c215d8cad7a51efaf803159f1c33433c31"
   }
  }
 },
 "nbformat": 4,
 "nbformat_minor": 2
}
