{
 "cells": [
  {
   "attachments": {},
   "cell_type": "markdown",
   "metadata": {},
   "source": [
    "# getting started\n",
    "If you have mamba or conda installed you can use the cell below to create an environment that can be used to run this jupyter notebook in jupyter or vscode\n",
    "```python\n",
    "mamba env create --file './nostr.yml'\n",
    "mamba activate nostr\n",
    "```\n",
    "or\n",
    "```python\n",
    "conda env create --file './nostr.yml'\n",
    "conda activate nostr\n",
    "```"
   ]
  },
  {
   "attachments": {},
   "cell_type": "markdown",
   "metadata": {},
   "source": [
    "# python-nostr examples\n",
    "this notebook serves as a set of interactive examples to highlight how nostr and python-nostr work. the cell below will make sure this library is in your python path"
   ]
  },
  {
   "cell_type": "code",
   "execution_count": 1,
   "metadata": {},
   "outputs": [
    {
     "name": "stdout",
     "output_type": "stream",
     "text": [
      "['/Users/ryanarmstrong/Documents/01_Programming/GitHub/python-nostr/example_nbs', '/Users/ryanarmstrong/mambaforge/envs/nostr/lib/python310.zip', '/Users/ryanarmstrong/mambaforge/envs/nostr/lib/python3.10', '/Users/ryanarmstrong/mambaforge/envs/nostr/lib/python3.10/lib-dynload', '', '/Users/ryanarmstrong/mambaforge/envs/nostr/lib/python3.10/site-packages', '/Users/ryanarmstrong/Documents/01_Programming/GitHub/python-nostr']\n"
     ]
    }
   ],
   "source": [
    "import sys\n",
    "from pathlib import Path\n",
    "sys.path.append(str(Path('../').resolve()))\n",
    "print(sys.path)"
   ]
  },
  {
   "attachments": {},
   "cell_type": "markdown",
   "metadata": {},
   "source": [
    "\n",
    "## key management\n",
    "python-nostr has basic key management capabilities to generate new private keys or load existing keys.\n",
    "The base key class is instantiated with raw_bytes - if you are loading an existing hex key you can use `Key.raw_bytes_from_hex()`\n",
    "\n",
    "The `PublicKey` and `PrivateKey` classes inherit these capabilities. The bech32 representation of the private and public key (i.e. npub... and nsec...) are defined in each class respectively.\n",
    "\n",
    "**change log from original repo:**\n",
    " - Added base Key class to manage shared methods\n",
    " - Added hex to key method\n",
    " - Changed `raw_secret` to `raw_bytes` in `PrivateKey` to keep classes consistent\n",
    "    - this change helps the code, but does it add some risk to users?"
   ]
  },
  {
   "cell_type": "code",
   "execution_count": 2,
   "metadata": {},
   "outputs": [
    {
     "name": "stdout",
     "output_type": "stream",
     "text": [
      "this is the raw bytes of a key: b\"#B\\x1f\\xd1\\xbb\\xaa\\xaf\\x05\\xd5\\xdb\\xa1\\x13\\xb5\\xb04\\x93\\x06F:\\xa6\\xd2\\xe6\\xb9'i\\x96\\x87\\xecg\\r\\xa0 \"\n",
      "this is the hex of the same key: 23421fd1bbaaaf05d5dba113b5b0349306463aa6d2e6b927699687ec670da020\n",
      "bech32 prefix not defined for type <class 'nostr.key.Key'>\n"
     ]
    }
   ],
   "source": [
    "from pathlib import Path\n",
    "import secrets\n",
    "from nostr.key import Key, PrivateKey, PublicKey\n",
    "\n",
    "base_key = Key(secrets.token_bytes(32))\n",
    "print(f'this is the raw bytes of a key: {base_key.raw_bytes}\\n'\n",
    "      f'this is the hex of the same key: {base_key.hex()}')\n",
    "\n",
    "assert base_key.hex() == Key.raw_bytes_from_hex(base_key.hex()).hex()\n",
    "assert issubclass(PrivateKey, Key) and issubclass(PublicKey, Key)\n",
    "\n",
    "try:\n",
    "      base_key.bech32()\n",
    "except ValueError as e:\n",
    "      print(e)"
   ]
  },
  {
   "attachments": {},
   "cell_type": "markdown",
   "metadata": {},
   "source": [
    "Below we use the `PrivateKey` class to make a private key or load it from a file on disk. We can also confirm that the private and public key representations start with the appropriate characters (npub and nsec)"
   ]
  },
  {
   "cell_type": "code",
   "execution_count": 3,
   "metadata": {},
   "outputs": [
    {
     "name": "stdout",
     "output_type": "stream",
     "text": [
      "Loaded private key from private_key.txt\n",
      "Public key: npub19nqc7plddvevd8sgfpahzuput0q9hwrfhk8crj9k73fpg8qwjx3sk6224n\n"
     ]
    }
   ],
   "source": [
    "key_file = Path('./private_key.txt') # saving a private key for testing\n",
    "\n",
    "if not key_file.exists():\n",
    "    private_key = PrivateKey()\n",
    "    public_key = private_key.public_key\n",
    "    print(f\"Generated new private key\")\n",
    "    print(f\"Public key: {public_key.bech32()}\")\n",
    "    with open(key_file, 'w') as f:\n",
    "        f.write(private_key.raw_bytes.hex())\n",
    "else:\n",
    "    with open(key_file, 'r') as f:\n",
    "        hex = f.read()\n",
    "        # private_key = PrivateKey(bytes.fromhex(hex))\n",
    "        private_key = PrivateKey.raw_bytes_from_hex(hex)\n",
    "    public_key = private_key.public_key\n",
    "    print(f'Loaded private key from {key_file}')\n",
    "    print(f'Public key: {public_key.bech32()}')\n",
    "\n",
    "assert private_key.bech32()[:4]=='nsec' and public_key.bech32()[:4]=='npub'"
   ]
  },
  {
   "attachments": {},
   "cell_type": "markdown",
   "metadata": {},
   "source": [
    "Next let's instantiate a `RelayManager` and add a couple relay urls. We are going to set one to not write and see what happens"
   ]
  },
  {
   "cell_type": "code",
   "execution_count": 4,
   "metadata": {},
   "outputs": [],
   "source": [
    "from nostr.relay_manager import RelayManager, Relay\n",
    "\n",
    "relay_manager = RelayManager()\n",
    "relay_manager.add_relay('wss://nostr-2.zebedee.cloud')\n",
    "relay_manager.add_relay('wss://nostr.zebedee.cloud')\n",
    "relay_manager.add_relay('wss://nostr-relay.lnmarkets.com', write=False)"
   ]
  },
  {
   "attachments": {},
   "cell_type": "markdown",
   "metadata": {},
   "source": [
    "the relay manager keeps all of the `Relay` objects in a dict keyed by the url. Let's look at some of the properties of the relays we added before we actually do anything"
   ]
  },
  {
   "cell_type": "code",
   "execution_count": 7,
   "metadata": {},
   "outputs": [
    {
     "name": "stdout",
     "output_type": "stream",
     "text": [
      "{\n",
      "  \"url\": \"wss://nostr-2.zebedee.cloud\",\n",
      "  \"policy\": {\n",
      "    \"read\": true,\n",
      "    \"write\": true\n",
      "  },\n",
      "  \"subscriptions\": []\n",
      "} \n",
      "\n",
      "\n",
      "{\n",
      "  \"url\": \"wss://nostr.zebedee.cloud\",\n",
      "  \"policy\": {\n",
      "    \"read\": true,\n",
      "    \"write\": true\n",
      "  },\n",
      "  \"subscriptions\": []\n",
      "} \n",
      "\n",
      "\n",
      "{\n",
      "  \"url\": \"wss://nostr-relay.lnmarkets.com\",\n",
      "  \"policy\": {\n",
      "    \"read\": true,\n",
      "    \"write\": false\n",
      "  },\n",
      "  \"subscriptions\": []\n",
      "} \n",
      "\n",
      "\n"
     ]
    }
   ],
   "source": [
    "for url, relay in relay_manager.relays.items():\n",
    "    print(relay, '\\n\\n')\n",
    "    assert type(relay) == Relay and url == relay.url\n"
   ]
  },
  {
   "attachments": {},
   "cell_type": "markdown",
   "metadata": {},
   "source": [
    "Now we can connect:\n",
    "\n",
    "**changelog from original repo:**\n",
    " - added a connection context for easier operations\n",
    "    - is this actually helpful in context of nostr?\n"
   ]
  },
  {
   "cell_type": "code",
   "execution_count": 8,
   "metadata": {},
   "outputs": [
    {
     "name": "stdout",
     "output_type": "stream",
     "text": [
      "connection open to wss://nostr-2.zebedee.cloud\n",
      "connection open to wss://nostr.zebedee.cloud\n",
      "connection open to wss://nostr-relay.lnmarkets.com\n",
      "test\n",
      "connection to wss://nostr-2.zebedee.cloud closed\n",
      "connection to wss://nostr.zebedee.cloud closed\n",
      "connection to wss://nostr-relay.lnmarkets.com closed\n"
     ]
    }
   ],
   "source": [
    "import ssl\n",
    "from nostr.relay_manager import Connection\n",
    "\n",
    "\n",
    "with relay_manager.connection({\"cert_reqs\": ssl.CERT_NONE}): # NOTE: This disables ssl certificate verification\n",
    "    print('test')"
   ]
  },
  {
   "cell_type": "code",
   "execution_count": 19,
   "metadata": {},
   "outputs": [
    {
     "name": "stdout",
     "output_type": "stream",
     "text": [
      "['REQ', 'recent2', {'kinds': [<EventKind.TEXT_NOTE: 1>], 'authors': ['c80b5248fbe8f392bc3ba45091fb4e6e2b5872387601bf90f53992366b30d720'], 'since': 1671929381}]\n"
     ]
    }
   ],
   "source": [
    "import json\n",
    "import ssl\n",
    "import time\n",
    "from nostr.filter import Filter, Filters\n",
    "from nostr.event import Event, EventKind\n",
    "from nostr.relay_manager import RelayManager\n",
    "from nostr.message_type import ClientMessageType\n",
    "\n",
    "\n",
    "filters = Filters([Filter(authors=['c80b5248fbe8f392bc3ba45091fb4e6e2b5872387601bf90f53992366b30d720'],\n",
    "                          kinds=[EventKind.TEXT_NOTE],\n",
    "                          since=int(time.time()-3400)\n",
    "                          )])\n",
    "subscription_id = 'recent2'\n",
    "request = [ClientMessageType.REQUEST, subscription_id]\n",
    "request.extend(filters.to_json_array())\n",
    "\n",
    "print(request)"
   ]
  },
  {
   "cell_type": "code",
   "execution_count": 25,
   "metadata": {},
   "outputs": [
    {
     "name": "stdout",
     "output_type": "stream",
     "text": [
      "connection open to wss://nostr-2.zebedee.cloud\n",
      "connection open to wss://nostr.zebedee.cloud\n",
      "connection open to wss://nostr-relay.lnmarkets.com\n",
      "[\"REQ\", \"recent2\", {\"kinds\": [1], \"authors\": [\"c80b5248fbe8f392bc3ba45091fb4e6e2b5872387601bf90f53992366b30d720\"], \"since\": 1671929381}]\n",
      "{'id': '027e663627ae159589f2fbea066a326827d487970ea05d2d8bdbe5d680408dd7', 'pubkey': 'c80b5248fbe8f392bc3ba45091fb4e6e2b5872387601bf90f53992366b30d720', 'created_at': 1671929565, 'kind': 1, 'tags': [['e', 'f706b1abd879eb9faa601cdc8ee8b6cbca01939e00c7498e717a625037484ee6'], ['e', '9bedbbf60736374dcd87cd3ad3243198695dc199f6f4bc0435b75ec9aa2097a8'], ['p', '5fd693e61a7969ecf5c11dbf5ce20aedac1cea71721755b037955994bf6061bb'], ['p', 'ec8f72ff2937c197cb0d032dae27bae073ae6a4e1bd2a8e2ef1578636b3595cb'], ['p', 'dedf91f5c5eee3f3864eec34b28fc99c6a8cc44b250888ccf4d0d8d854f48d54'], ['p', '32e1827635450ebb3c5a7d12c1f8e7b2b514439ac10a67eef3d9fd9c5c68e245'], ['p', '2f02d76f09666ae076e65beb60ff195eb7f44b51c73147a6a37748bfabd60a7c']], 'content': 'Me too actually… totally different.', 'sig': '7ed2fec3693e16e589ce93db2434fd868c602d5cc40b421fbe6761f07926eef387482cce5359a4d64b13bc9cc6a270571296b9895e3c50f4234d06a18551ee54'}\n",
      "{'id': '1787a619290743afba00c061a033b49d7597d0309d43cc3ecb70eee9498502e0', 'pubkey': 'c80b5248fbe8f392bc3ba45091fb4e6e2b5872387601bf90f53992366b30d720', 'created_at': 1671929677, 'kind': 1, 'tags': [['e', 'f706b1abd879eb9faa601cdc8ee8b6cbca01939e00c7498e717a625037484ee6'], ['e', '027e663627ae159589f2fbea066a326827d487970ea05d2d8bdbe5d680408dd7'], ['p', '5fd693e61a7969ecf5c11dbf5ce20aedac1cea71721755b037955994bf6061bb'], ['p', 'ec8f72ff2937c197cb0d032dae27bae073ae6a4e1bd2a8e2ef1578636b3595cb'], ['p', 'dedf91f5c5eee3f3864eec34b28fc99c6a8cc44b250888ccf4d0d8d854f48d54'], ['p', '32e1827635450ebb3c5a7d12c1f8e7b2b514439ac10a67eef3d9fd9c5c68e245'], ['p', '2f02d76f09666ae076e65beb60ff195eb7f44b51c73147a6a37748bfabd60a7c']], 'content': 'Possibly the first 6? Still looks slightly off but much closer', 'sig': '96e78c7a9460ca61c795c3ce91fb5992a12ef13eb6f2762174c4d5d19c45f6761c718d6140a483db1fba443cf4021dc46d2ac0855809a80c8c546c22336bb1f5'}\n",
      "recent2\n",
      "recent2\n",
      "recent2\n",
      "connection to wss://nostr-2.zebedee.cloud closed\n",
      "connection to wss://nostr.zebedee.cloud closed\n",
      "connection to wss://nostr-relay.lnmarkets.com closed\n"
     ]
    }
   ],
   "source": [
    "with Connection(relay_manager, {\"cert_reqs\": ssl.CERT_NONE}): # NOTE: This disables ssl certificate verification\n",
    "  time.sleep(1.25) # allow the connections to open\n",
    "  message = json.dumps(request)\n",
    "  print(message)\n",
    "  relay_manager.publish_message(message)\n",
    "  relay_manager.add_subscription(subscription_id, filters)\n",
    "  time.sleep(1) # allow the messages to send\n",
    "  while relay_manager.message_pool.has_events():\n",
    "    event_msg = relay_manager.message_pool.get_event()\n",
    "    print(event_msg.event.to_json_object())\n",
    "  while relay_manager.message_pool.has_notices():\n",
    "    notice_msg = relay_manager.message_pool.get_notice()\n",
    "    print(notice_msg.event.to_json_object())\n",
    "  while relay_manager.message_pool.has_eose_notices():\n",
    "    eose_notice_msg = relay_manager.message_pool.get_eose_notice()\n",
    "    print(eose_notice_msg.subscription_id)\n",
    "\n",
    "# with Connection(relay_manager, {\"cert_reqs\": ssl.CERT_NONE}): # NOTE: This disables ssl certificate verification\n"
   ]
  },
  {
   "cell_type": "code",
   "execution_count": 21,
   "metadata": {},
   "outputs": [
    {
     "name": "stdout",
     "output_type": "stream",
     "text": [
      "relay.url='wss://nostr-2.zebedee.cloud'\n",
      "\trelay.policy.should_read=True\n",
      "\trelay.policy.should_write=True\n",
      "\trelay.subscriptions={'recent2': <nostr.subscription.Subscription object at 0x1055f4190>}\n",
      "relay.url='wss://nostr.zebedee.cloud'\n",
      "\trelay.policy.should_read=True\n",
      "\trelay.policy.should_write=True\n",
      "\trelay.subscriptions={'recent2': <nostr.subscription.Subscription object at 0x1055f4190>}\n",
      "relay.url='wss://nostr-relay.lnmarkets.com'\n",
      "\trelay.policy.should_read=True\n",
      "\trelay.policy.should_write=True\n",
      "\trelay.subscriptions={'recent2': <nostr.subscription.Subscription object at 0x1055f4190>}\n"
     ]
    }
   ],
   "source": [
    "for url, relay in relay_manager.relays.items():\n",
    "    print(f'{relay.url=}')\n",
    "    print(f'\\t{relay.policy.should_read=}')\n",
    "    print(f'\\t{relay.policy.should_write=}')\n",
    "    print(f'\\t{relay.subscriptions=}')\n",
    "    assert type(relay) == Relay and url == relay.url\n"
   ]
  },
  {
   "cell_type": "code",
   "execution_count": 22,
   "metadata": {},
   "outputs": [],
   "source": [
    "relay_manager.message_pool._unique_events=set()"
   ]
  },
  {
   "cell_type": "code",
   "execution_count": 23,
   "metadata": {},
   "outputs": [
    {
     "ename": "SyntaxError",
     "evalue": "invalid syntax (3692258011.py, line 1)",
     "output_type": "error",
     "traceback": [
      "\u001b[0;36m  Cell \u001b[0;32mIn[23], line 1\u001b[0;36m\u001b[0m\n\u001b[0;31m    relay_manager.\u001b[0m\n\u001b[0m                  ^\u001b[0m\n\u001b[0;31mSyntaxError\u001b[0m\u001b[0;31m:\u001b[0m invalid syntax\n"
     ]
    }
   ],
   "source": [
    "relay_manager."
   ]
  },
  {
   "cell_type": "code",
   "execution_count": 24,
   "metadata": {},
   "outputs": [],
   "source": [
    "relay = relay_manager.relays['wss://nostr-2.zebedee.cloud']"
   ]
  },
  {
   "cell_type": "code",
   "execution_count": 18,
   "metadata": {},
   "outputs": [],
   "source": [
    "relay.ws."
   ]
  },
  {
   "cell_type": "code",
   "execution_count": 39,
   "metadata": {},
   "outputs": [
    {
     "name": "stdout",
     "output_type": "stream",
     "text": [
      "['CLOSE', 'recent']\n",
      "connection open to wss://nostr.zebedee.cloud\n",
      "connection open to wss://nostr-relay.lnmarkets.com\n",
      "connection to wss://nostr.zebedee.cloud closed\n",
      "connection to wss://nostr-relay.lnmarkets.com closed\n"
     ]
    },
    {
     "ename": "KeyError",
     "evalue": "'recent'",
     "output_type": "error",
     "traceback": [
      "\u001b[0;31m---------------------------------------------------------------------------\u001b[0m",
      "\u001b[0;31mKeyError\u001b[0m                                  Traceback (most recent call last)",
      "Cell \u001b[0;32mIn[39], line 9\u001b[0m\n\u001b[1;32m      7\u001b[0m message \u001b[39m=\u001b[39m json\u001b[39m.\u001b[39mdumps(request)\n\u001b[1;32m      8\u001b[0m relay_manager\u001b[39m.\u001b[39mpublish_message(message)\n\u001b[0;32m----> 9\u001b[0m relay_manager\u001b[39m.\u001b[39;49mclose_subscription(subscription_id)\n",
      "File \u001b[0;32m~/Documents/01_Programming/GitHub/python-nostr/nostr/relay_manager.py:25\u001b[0m, in \u001b[0;36mRelayManager.close_subscription\u001b[0;34m(self, id)\u001b[0m\n\u001b[1;32m     23\u001b[0m \u001b[39mdef\u001b[39;00m \u001b[39mclose_subscription\u001b[39m(\u001b[39mself\u001b[39m, \u001b[39mid\u001b[39m: \u001b[39mstr\u001b[39m):\n\u001b[1;32m     24\u001b[0m     \u001b[39mfor\u001b[39;00m relay \u001b[39min\u001b[39;00m \u001b[39mself\u001b[39m\u001b[39m.\u001b[39mrelays\u001b[39m.\u001b[39mvalues():\n\u001b[0;32m---> 25\u001b[0m         relay\u001b[39m.\u001b[39;49mclose_subscription(\u001b[39mid\u001b[39;49m)\n",
      "File \u001b[0;32m~/Documents/01_Programming/GitHub/python-nostr/nostr/relay.py:55\u001b[0m, in \u001b[0;36mRelay.close_subscription\u001b[0;34m(self, id)\u001b[0m\n\u001b[1;32m     53\u001b[0m \u001b[39mdef\u001b[39;00m \u001b[39mclose_subscription\u001b[39m(\u001b[39mself\u001b[39m, \u001b[39mid\u001b[39m: \u001b[39mstr\u001b[39m) \u001b[39m-\u001b[39m\u001b[39m>\u001b[39m \u001b[39mNone\u001b[39;00m:\n\u001b[1;32m     54\u001b[0m     \u001b[39mwith\u001b[39;00m \u001b[39mself\u001b[39m\u001b[39m.\u001b[39mlock:\n\u001b[0;32m---> 55\u001b[0m         \u001b[39mself\u001b[39;49m\u001b[39m.\u001b[39;49msubscriptions\u001b[39m.\u001b[39;49mpop(\u001b[39mid\u001b[39;49m)\n",
      "\u001b[0;31mKeyError\u001b[0m: 'recent'"
     ]
    }
   ],
   "source": [
    "request = [ClientMessageType.CLOSE, subscription_id]\n",
    "\n",
    "print(request)\n",
    "\n",
    "with Connection(relay_manager, {\"cert_reqs\": ssl.CERT_NONE}): # NOTE: This disables ssl certificate verification\n",
    "  time.sleep(1.25) # allow the connections to open\n",
    "  message = json.dumps(request)\n",
    "  relay_manager.publish_message(message)\n",
    "  relay_manager.close_subscription(subscription_id)\n"
   ]
  },
  {
   "cell_type": "code",
   "execution_count": 20,
   "metadata": {},
   "outputs": [
    {
     "data": {
      "text/plain": [
       "True"
      ]
     },
     "execution_count": 20,
     "metadata": {},
     "output_type": "execute_result"
    }
   ],
   "source": [
    "relay_manager.message_pool.notices.empty()"
   ]
  },
  {
   "cell_type": "code",
   "execution_count": 13,
   "metadata": {},
   "outputs": [
    {
     "data": {
      "text/plain": [
       "{'kinds': [<EventKind.TEXT_NOTE: 1>],\n",
       " 'authors': ['82341f882b6eabcd2ba7f1ef90aad961cf074af15b9ef44a09f9d2a8fbfbe6a2'],\n",
       " 'limit': 1}"
      ]
     },
     "execution_count": 13,
     "metadata": {},
     "output_type": "execute_result"
    }
   ],
   "source": [
    "test = filters[0]\n",
    "test.to_json_object()"
   ]
  },
  {
   "cell_type": "code",
   "execution_count": 14,
   "metadata": {},
   "outputs": [
    {
     "data": {
      "text/plain": [
       "['CLOSE', '?']"
      ]
     },
     "execution_count": 14,
     "metadata": {},
     "output_type": "execute_result"
    }
   ],
   "source": [
    "request"
   ]
  },
  {
   "cell_type": "code",
   "execution_count": 23,
   "metadata": {},
   "outputs": [
    {
     "ename": "KeyboardInterrupt",
     "evalue": "",
     "output_type": "error",
     "traceback": [
      "\u001b[0;31m---------------------------------------------------------------------------\u001b[0m",
      "\u001b[0;31mKeyboardInterrupt\u001b[0m                         Traceback (most recent call last)",
      "Cell \u001b[0;32mIn[23], line 2\u001b[0m\n\u001b[1;32m      1\u001b[0m \u001b[39mwith\u001b[39;00m Connection(relay_manager, {\u001b[39m\"\u001b[39m\u001b[39mcert_reqs\u001b[39m\u001b[39m\"\u001b[39m: ssl\u001b[39m.\u001b[39mCERT_NONE}):\n\u001b[0;32m----> 2\u001b[0m     relay_manager\u001b[39m.\u001b[39;49mmessage_pool\u001b[39m.\u001b[39;49mevents\u001b[39m.\u001b[39;49mget()\n",
      "File \u001b[0;32m~/mambaforge/envs/nostr/lib/python3.10/queue.py:171\u001b[0m, in \u001b[0;36mQueue.get\u001b[0;34m(self, block, timeout)\u001b[0m\n\u001b[1;32m    169\u001b[0m \u001b[39melif\u001b[39;00m timeout \u001b[39mis\u001b[39;00m \u001b[39mNone\u001b[39;00m:\n\u001b[1;32m    170\u001b[0m     \u001b[39mwhile\u001b[39;00m \u001b[39mnot\u001b[39;00m \u001b[39mself\u001b[39m\u001b[39m.\u001b[39m_qsize():\n\u001b[0;32m--> 171\u001b[0m         \u001b[39mself\u001b[39;49m\u001b[39m.\u001b[39;49mnot_empty\u001b[39m.\u001b[39;49mwait()\n\u001b[1;32m    172\u001b[0m \u001b[39melif\u001b[39;00m timeout \u001b[39m<\u001b[39m \u001b[39m0\u001b[39m:\n\u001b[1;32m    173\u001b[0m     \u001b[39mraise\u001b[39;00m \u001b[39mValueError\u001b[39;00m(\u001b[39m\"\u001b[39m\u001b[39m'\u001b[39m\u001b[39mtimeout\u001b[39m\u001b[39m'\u001b[39m\u001b[39m must be a non-negative number\u001b[39m\u001b[39m\"\u001b[39m)\n",
      "File \u001b[0;32m~/mambaforge/envs/nostr/lib/python3.10/threading.py:320\u001b[0m, in \u001b[0;36mCondition.wait\u001b[0;34m(self, timeout)\u001b[0m\n\u001b[1;32m    318\u001b[0m \u001b[39mtry\u001b[39;00m:    \u001b[39m# restore state no matter what (e.g., KeyboardInterrupt)\u001b[39;00m\n\u001b[1;32m    319\u001b[0m     \u001b[39mif\u001b[39;00m timeout \u001b[39mis\u001b[39;00m \u001b[39mNone\u001b[39;00m:\n\u001b[0;32m--> 320\u001b[0m         waiter\u001b[39m.\u001b[39;49macquire()\n\u001b[1;32m    321\u001b[0m         gotit \u001b[39m=\u001b[39m \u001b[39mTrue\u001b[39;00m\n\u001b[1;32m    322\u001b[0m     \u001b[39melse\u001b[39;00m:\n",
      "\u001b[0;31mKeyboardInterrupt\u001b[0m: "
     ]
    }
   ],
   "source": [
    "with Connection(relay_manager, {\"cert_reqs\": ssl.CERT_NONE}):\n",
    "    relay_manager.message_pool.events.get()"
   ]
  },
  {
   "cell_type": "code",
   "execution_count": null,
   "metadata": {},
   "outputs": [],
   "source": [
    "relay_manager"
   ]
  },
  {
   "cell_type": "code",
   "execution_count": 18,
   "metadata": {},
   "outputs": [
    {
     "data": {
      "text/plain": [
       "True"
      ]
     },
     "execution_count": 18,
     "metadata": {},
     "output_type": "execute_result"
    }
   ],
   "source": [
    "relay_manager.message_pool.notices.empty()"
   ]
  },
  {
   "cell_type": "code",
   "execution_count": 13,
   "metadata": {},
   "outputs": [
    {
     "data": {
      "text/plain": [
       "b'X\\x83\\x92\\xc0]\\x91=!vc\\xc5\\x9d:xW\\xd4a\\x03\\xdfz\\n&\\xf6\\xc8\\xd3-L\\xfb2R0\\xb9'"
      ]
     },
     "execution_count": 13,
     "metadata": {},
     "output_type": "execute_result"
    }
   ],
   "source": [
    "public_key.raw_bytes"
   ]
  },
  {
   "cell_type": "code",
   "execution_count": 12,
   "metadata": {},
   "outputs": [
    {
     "data": {
      "text/plain": [
       "<Encoding.BECH32: 1>"
      ]
     },
     "execution_count": 12,
     "metadata": {},
     "output_type": "execute_result"
    }
   ],
   "source": [
    "from nostr import bech32\n",
    "\n",
    "bech32.bech32_decode(public_key.bech32())[1]"
   ]
  },
  {
   "cell_type": "code",
   "execution_count": 32,
   "metadata": {},
   "outputs": [
    {
     "name": "stdout",
     "output_type": "stream",
     "text": [
      "connection open to wss://nostr.zebedee.cloud\n",
      "connection open to wss://nostr-relay.lnmarkets.com\n",
      "connection to wss://nostr.zebedee.cloud closed\n",
      "connection to wss://nostr-relay.lnmarkets.com closed\n"
     ]
    }
   ],
   "source": [
    "import json\n",
    "import ssl\n",
    "import time\n",
    "from nostr.relay_manager import RelayManager\n",
    "\n",
    "relay_manager = RelayManager()\n",
    "relay_manager.add_relay(\"wss://nostr.zebedee.cloud\")\n",
    "relay_manager.add_relay(\"wss://nostr-relay.lnmarkets.com\")\n",
    "relay_manager.open_connections({\"cert_reqs\": ssl.CERT_NONE}) # NOTE: This disables ssl certificate verification\n",
    "time.sleep(1.25) # allow the connections to open\n",
    "\n",
    "while relay_manager.message_pool.has_notices():\n",
    "  notice_msg = relay_manager.message_pool.get_notice()\n",
    "  print(notice_msg.content)\n",
    "  \n",
    "relay_manager.close_connections()"
   ]
  },
  {
   "cell_type": "code",
   "execution_count": 33,
   "metadata": {},
   "outputs": [
    {
     "data": {
      "text/plain": [
       "{'wss://nostr.zebedee.cloud': <nostr.relay.Relay at 0x109f06b00>,\n",
       " 'wss://nostr-relay.lnmarkets.com': <nostr.relay.Relay at 0x109f06fe0>}"
      ]
     },
     "execution_count": 33,
     "metadata": {},
     "output_type": "execute_result"
    }
   ],
   "source": [
    "relay_manager.relays"
   ]
  },
  {
   "cell_type": "code",
   "execution_count": 43,
   "metadata": {},
   "outputs": [
    {
     "name": "stdout",
     "output_type": "stream",
     "text": [
      "connection open to wss://nostr-2.zebedee.cloud\n",
      "connection open to wss://nostr.zebedee.cloud\n",
      "connection open to wss://nostr-relay.lnmarkets.com\n",
      "connection to wss://nostr-2.zebedee.cloud closed\n",
      "connection to wss://nostr.zebedee.cloud closed\n",
      "connection to wss://nostr-relay.lnmarkets.com closed\n"
     ]
    }
   ],
   "source": [
    "import json \n",
    "import ssl\n",
    "import time\n",
    "from nostr.event import Event\n",
    "from nostr.relay_manager import RelayManager\n",
    "from nostr.message_type import ClientMessageType\n",
    "from nostr.key import PrivateKey\n",
    "\n",
    "relay_manager.open_connections({\"cert_reqs\": ssl.CERT_NONE}) # NOTE: This disables ssl certificate verification\n",
    "time.sleep(2) # allow the connections to open\n",
    "\n",
    "event = Event(private_key.public_key.hex(), \"Hello Nostr - testing from python-nostr\")\n",
    "event.sign(private_key.hex())\n",
    "\n",
    "message = json.dumps([ClientMessageType.EVENT, event.to_json_object()])\n",
    "relay_manager.publish_message(message)\n",
    "time.sleep(1) # allow the messages to send\n",
    "\n",
    "relay_manager.close_connections()"
   ]
  },
  {
   "cell_type": "code",
   "execution_count": 16,
   "metadata": {},
   "outputs": [
    {
     "data": {
      "text/plain": [
       "[]"
      ]
     },
     "execution_count": 16,
     "metadata": {},
     "output_type": "execute_result"
    }
   ],
   "source": [
    "Event()"
   ]
  },
  {
   "cell_type": "code",
   "execution_count": null,
   "metadata": {},
   "outputs": [],
   "source": [
    "import json\n",
    "import ssl\n",
    "import time\n",
    "from nostr.filter import Filter, Filters\n",
    "from nostr.event import Event, EventKind\n",
    "from nostr.relay_manager import RelayManager\n",
    "from nostr.message_type import ClientMessageType\n",
    "\n",
    "filters = Filters([Filter(authors=[private_key.public_key.hex()], kinds=[EventKind.TEXT_NOTE])])\n",
    "subscription_id = <a string to identify a subscription>\n",
    "request = [ClientMessageType.REQUEST, subscription_id]\n",
    "request.extend(filters.to_json_array())\n",
    "\n",
    "relay_manager = RelayManager()\n",
    "relay_manager.add_relay(\"wss://nostr-pub.wellorder.net\")\n",
    "relay_manager.add_relay(\"wss://relay.damus.io\")\n",
    "relay_manager.add_subscription(subscription_id, filters)\n",
    "relay_manager.open_connections({\"cert_reqs\": ssl.CERT_NONE}) # NOTE: This disables ssl certificate verification\n",
    "time.sleep(1.25) # allow the connections to open\n",
    "\n",
    "message = json.dumps(request)\n",
    "relay_manager.publish_message(message)\n",
    "time.sleep(1) # allow the messages to send\n",
    "\n",
    "while relay_manager.message_pool.has_events():\n",
    "  event_msg = relay_manager.message_pool.get_event()\n",
    "  print(event_msg.event.content)\n",
    "  \n",
    "relay_manager.close_connections()"
   ]
  },
  {
   "cell_type": "code",
   "execution_count": null,
   "metadata": {},
   "outputs": [],
   "source": []
  }
 ],
 "metadata": {
  "kernelspec": {
   "display_name": "nostr",
   "language": "python",
   "name": "python3"
  },
  "language_info": {
   "codemirror_mode": {
    "name": "ipython",
    "version": 3
   },
   "file_extension": ".py",
   "mimetype": "text/x-python",
   "name": "python",
   "nbconvert_exporter": "python",
   "pygments_lexer": "ipython3",
   "version": "3.10.8"
  },
  "orig_nbformat": 4,
  "vscode": {
   "interpreter": {
    "hash": "cfb5954440880a8bdfa8cd43661a47c215d8cad7a51efaf803159f1c33433c31"
   }
  }
 },
 "nbformat": 4,
 "nbformat_minor": 2
}
