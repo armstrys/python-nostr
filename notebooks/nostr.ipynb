{
 "cells": [
  {
   "attachments": {},
   "cell_type": "markdown",
   "metadata": {},
   "source": [
    "> **The nostr community is awesome and there is no shortage of other resources - make sure you check them out:**\n",
    ">  - [python-nostr](https://github.com/jeffthibault/python-nostr) - the original repository that I forked to make this tutorial\n",
    ">  - [awesome-nostr](https://github.com/aljazceru/awesome-nostr) -  a curated github repository of great resources\n",
    ">  - [nostr](https://github.com/nostr-protocol/nostr) - the github for the nostr protocol\n",
    ">   - including my favorite - [Nostr Improvement Proposals (NIPs)](https://github.com/nostr-protocol/nips) - the list of implemented proposals that clearly describe usage of the nostr protocol\n",
    "\n",
    "# getting started\n",
    "\n",
    "If you have [conda](https://docs.conda.io/en/latest/) or [mamba](https://mamba.readthedocs.io/en/latest/) installed you can use the cell below to create an environment that can be used to run this jupyter notebook in jupyter or vscode\n",
    "```python\n",
    "mamba env create --file './nostr.yml'\n",
    "mamba activate nostr\n",
    "```\n",
    "or\n",
    "```python\n",
    "conda env create --file './nostr.yml'\n",
    "conda activate nostr\n",
    "```"
   ]
  },
  {
   "attachments": {},
   "cell_type": "markdown",
   "metadata": {},
   "source": [
    "## make sure this notebook can access the python-nostr code\n",
    "run the cell below to add the parent directory to your python path and make sure `python-nostr` is in your path"
   ]
  },
  {
   "cell_type": "code",
   "execution_count": 1,
   "metadata": {},
   "outputs": [],
   "source": [
    "import sys\n",
    "from pathlib import Path\n",
    "\n",
    "sys.path.append(str(Path('../').resolve()))\n",
    "assert 'python-nostr' in [Path(path).name for path in sys.path]"
   ]
  },
  {
   "attachments": {},
   "cell_type": "markdown",
   "metadata": {},
   "source": [
    "\n",
    "## key management \n",
    "\n",
    "> description of keys in nostr can be found in ([NIP-01](https://github.com/nostr-protocol/nips/blob/master/01.md) and [NIP-19](https://github.com/nostr-protocol/nips/blob/master/19.md))\n",
    "\n",
    "python-nostr has basic key management capabilities to generate new private keys or load existing keys.\n",
    "The base key class is instantiated with raw_bytes - if you are loading an existing hex key you can use `Key.from_hex()`\n",
    "\n",
    "The `PublicKey` and `PrivateKey` classes inherit these capabilities. The bech32 representation of the private and public key (i.e. npub... and nsec...) are defined in each class respectively.\n",
    "\n",
    "**change log from original repo:**\n",
    " - Added base Key class to manage shared methods\n",
    " - Added hex to key method\n",
    " - Changed `raw_secret` to `raw_bytes` in `PrivateKey` to keep classes consistent\n",
    "    - this change helps the code, but does it add some risk to users?"
   ]
  },
  {
   "cell_type": "code",
   "execution_count": 2,
   "metadata": {},
   "outputs": [
    {
     "name": "stdout",
     "output_type": "stream",
     "text": [
      "this is the raw bytes of a key: b'\\x11E\\x8d\\xe7%\\xb3^\\xde\\xcfG\\xee\\x1e\\x04x\\x90\\xa1\\x9a\\xc4s\\xab\"\\x1aX\\xef\\xe6%\\xb5B\\x04\\xe0\\x95\\n'\n",
      "this is the hex of the same key: 11458de725b35edecf47ee1e047890a19ac473ab221a58efe625b54204e0950a\n",
      "bech32 prefix not defined for type <class 'nostr.key.Key'>\n"
     ]
    }
   ],
   "source": [
    "from pathlib import Path\n",
    "import secrets\n",
    "from nostr.key import Key, PrivateKey, PublicKey\n",
    "\n",
    "base_key = Key(secrets.token_bytes(32))\n",
    "print(f'this is the raw bytes of a key: {base_key.raw_bytes}\\n'\n",
    "      f'this is the hex of the same key: {base_key.hex()}')\n",
    "\n",
    "assert base_key.hex() == Key.from_hex(base_key.hex()).hex()\n",
    "assert issubclass(PrivateKey, Key) and issubclass(PublicKey, Key)\n",
    "\n",
    "try:\n",
    "      base_key.bech32()\n",
    "except ValueError as e:\n",
    "      print(e)"
   ]
  },
  {
   "attachments": {},
   "cell_type": "markdown",
   "metadata": {},
   "source": [
    "Below we use the `PrivateKey` class to make a private key or load it from a file on disk. We can also confirm that the private and public key representations start with the appropriate characters (npub and nsec)"
   ]
  },
  {
   "cell_type": "code",
   "execution_count": 3,
   "metadata": {},
   "outputs": [
    {
     "name": "stdout",
     "output_type": "stream",
     "text": [
      "Loaded private key from private_key.txt\n",
      "Public key: npub19nqc7plddvevd8sgfpahzuput0q9hwrfhk8crj9k73fpg8qwjx3sk6224n\n"
     ]
    }
   ],
   "source": [
    "key_file = Path('./private_key.txt') # saving a private key for testing\n",
    "\n",
    "if not key_file.exists():\n",
    "    private_key = PrivateKey()\n",
    "    public_key = private_key.public_key\n",
    "    print(f\"Generated new private key\")\n",
    "    print(f\"Public key: {public_key.bech32()}\")\n",
    "    with open(key_file, 'w') as f:\n",
    "        f.write(private_key.raw_bytes.hex())\n",
    "else:\n",
    "    with open(key_file, 'r') as f:\n",
    "        hex = f.read()\n",
    "        # private_key = PrivateKey(bytes.fromhex(hex))\n",
    "        private_key = PrivateKey.from_hex(hex)\n",
    "    public_key = private_key.public_key\n",
    "    print(f'Loaded private key from {key_file}')\n",
    "    print(f'Public key: {public_key.bech32()}')\n",
    "\n",
    "assert private_key.bech32()[:4]=='nsec' and public_key.bech32()[:4]=='npub'"
   ]
  },
  {
   "attachments": {},
   "cell_type": "markdown",
   "metadata": {},
   "source": [
    "## relay manangement\n",
    "\n",
    "> a basic description of relays in nostr can be found in [NIP-01](https://github.com/nostr-protocol/nips/blob/master/01.md)\n",
    "\n",
    "Next let's instantiate a `RelayManager` and add a couple relay urls. We are going to set one to not write and see what happens.\n",
    "\n",
    "We will also attach a `message_store` dict to our relay manager where we can store messages when we get around to requesting them - I am making this now, because the `RelayManager` class automatically creates a `MessagePool`, which will control incoming messages, but it will not save them.\n",
    "\n",
    "**changelog from original repo:**\n",
    " - added `__iter__` method to the `RelayManager` class"
   ]
  },
  {
   "cell_type": "code",
   "execution_count": 4,
   "metadata": {},
   "outputs": [],
   "source": [
    "from nostr.relay_manager import RelayManager, Relay\n",
    "\n",
    "relay_manager = RelayManager()\n",
    "relay_manager.add_relay('wss://nostr-2.zebedee.cloud')\n",
    "relay_manager.add_relay('wss://nostr.zebedee.cloud')\n",
    "relay_manager.add_relay('wss://nostr-relay.lnmarkets.com', write=False)\n",
    "\n",
    "relay_manager.message_store = {}"
   ]
  },
  {
   "attachments": {},
   "cell_type": "markdown",
   "metadata": {},
   "source": [
    "the relay manager keeps all of the `Relay` objects in a dict keyed by the url. Let's look at some of the properties of the relays we added before we actually do anything\n",
    "\n",
    "**changelog from original repo:**\n",
    " - added `__repr__` of json object for `Relay`"
   ]
  },
  {
   "cell_type": "code",
   "execution_count": 5,
   "metadata": {},
   "outputs": [
    {
     "name": "stdout",
     "output_type": "stream",
     "text": [
      "{\n",
      "  \"url\": \"wss://nostr-2.zebedee.cloud\",\n",
      "  \"policy\": {\n",
      "    \"read\": true,\n",
      "    \"write\": true\n",
      "  },\n",
      "  \"subscriptions\": []\n",
      "} \n",
      "\n",
      "\n",
      "{\n",
      "  \"url\": \"wss://nostr.zebedee.cloud\",\n",
      "  \"policy\": {\n",
      "    \"read\": true,\n",
      "    \"write\": true\n",
      "  },\n",
      "  \"subscriptions\": []\n",
      "} \n",
      "\n",
      "\n",
      "{\n",
      "  \"url\": \"wss://nostr-relay.lnmarkets.com\",\n",
      "  \"policy\": {\n",
      "    \"read\": true,\n",
      "    \"write\": false\n",
      "  },\n",
      "  \"subscriptions\": []\n",
      "} \n",
      "\n",
      "\n"
     ]
    }
   ],
   "source": [
    "for relay in relay_manager:\n",
    "    print(relay, '\\n\\n')\n",
    "    assert type(relay) == Relay\n"
   ]
  },
  {
   "attachments": {},
   "cell_type": "markdown",
   "metadata": {},
   "source": [
    "Now we can connect - in this case we will connect and test that all relays have a websocket (just a naive test that they are not None when open and are None when closed).\n",
    "\n",
    "**changelog from original repo:**\n",
    " - added a connection context for easier operations\n",
    "    - is this actually helpful in context of nostr?\n"
   ]
  },
  {
   "cell_type": "code",
   "execution_count": 6,
   "metadata": {},
   "outputs": [],
   "source": [
    "import ssl\n",
    "from nostr.relay_manager import Connection\n",
    "\n",
    "with relay_manager.connection({\"cert_reqs\": ssl.CERT_NONE}): # NOTE: This disables ssl certificate verification\n",
    "    for relay in relay_manager:\n",
    "        assert relay.ws.sock is not None\n",
    "\n",
    "for relay in relay_manager:\n",
    "    assert relay.ws.sock is None"
   ]
  },
  {
   "attachments": {},
   "cell_type": "markdown",
   "metadata": {},
   "source": [
    "## writing to the relays\n",
    "\n",
    "> a basic description of events that can be written to a relay can be found in [NIP](https://github.com/nostr-protocol/nips/blob/master/01.md). Later NIPs include more detailed information about various kinds of events and associated metadata.\n",
    "\n",
    "Here we will write a very simple kind 1 (a note) event to a relay. We are not including any additional information in the event like tags. I hope to add more detail about those into this tutorial at a later date."
   ]
  },
  {
   "cell_type": "code",
   "execution_count": 7,
   "metadata": {},
   "outputs": [
    {
     "name": "stdout",
     "output_type": "stream",
     "text": [
      "[\"EVENT\", {\"id\": \"38cf9214618636479f91c10b55fc3a8c2501dc89e0451d3c6d32475992f81105\", \"pubkey\": \"2cc18f07ed6b32c69e08487b71703c5bc05bb869bd8f81c8b6f452141c0e91a3\", \"created_at\": 1672011680, \"kind\": 1, \"tags\": [], \"content\": \"Hello Nostr - testing from python-nostr\", \"sig\": \"eae20a19a377b875c147ec6668c83ed3ddc5eabec7b1c3fc2714f6de9028e82bc499f31d29ab8f5ae77bc8db8160ee08e952bb4d3425e8b5cbaad12a4693fd91\"}]\n"
     ]
    }
   ],
   "source": [
    "import json \n",
    "import ssl\n",
    "import time\n",
    "from nostr.event import Event\n",
    "from nostr.relay_manager import RelayManager\n",
    "from nostr.message_type import ClientMessageType\n",
    "from nostr.key import PrivateKey\n",
    "\n",
    "text = 'Hello Nostr - testing from python-nostr'\n",
    "event = Event(private_key.public_key.hex(), text)\n",
    "event.sign(private_key.hex())\n",
    "\n",
    "message = json.dumps([ClientMessageType.EVENT, event.to_json_object()])\n",
    "print(message)\n",
    "\n",
    "with relay_manager.connection({'cert_reqs': ssl.CERT_NONE}): # NOTE: This disables ssl certificate verification\n",
    "    time.sleep(2)\n",
    "    relay_manager.publish_message(message)\n",
    "    time.sleep(1) # allow the messages to send"
   ]
  },
  {
   "attachments": {},
   "cell_type": "markdown",
   "metadata": {},
   "source": [
    "## requesting from the relays\n",
    "we can use python-nostr to make requests to send to the relays. First we will try to request the event id we just published.\n",
    "\n",
    "> **_NOTE:_** when an event is processed by python noster it's ID is stored in `RelayManager.message_pool._unique_events`. This ID won't get processed a second time. If you are just exploring in a notebook like this you will need to clear this attribue to process the event a second time."
   ]
  },
  {
   "cell_type": "code",
   "execution_count": 8,
   "metadata": {},
   "outputs": [
    {
     "name": "stdout",
     "output_type": "stream",
     "text": [
      "the request is: ['REQ', 'single_event', {'ids': ['38cf9214618636479f91c10b55fc3a8c2501dc89e0451d3c6d32475992f81105']}]\n",
      "the message to the relay is: [\"REQ\", \"single_event\", {\"ids\": [\"38cf9214618636479f91c10b55fc3a8c2501dc89e0451d3c6d32475992f81105\"]}]\n",
      "The following subscriptions have been added to relays:\n",
      "wss://nostr-2.zebedee.cloud: {'id': 'single_event', 'filters': [{'ids': ['38cf9214618636479f91c10b55fc3a8c2501dc89e0451d3c6d32475992f81105']}]}\n",
      "wss://nostr.zebedee.cloud: {'id': 'single_event', 'filters': [{'ids': ['38cf9214618636479f91c10b55fc3a8c2501dc89e0451d3c6d32475992f81105']}]}\n",
      "wss://nostr-relay.lnmarkets.com: {'id': 'single_event', 'filters': [{'ids': ['38cf9214618636479f91c10b55fc3a8c2501dc89e0451d3c6d32475992f81105']}]}\n"
     ]
    }
   ],
   "source": [
    "import json\n",
    "import ssl\n",
    "import time\n",
    "from nostr.filter import Filter, Filters\n",
    "from nostr.event import Event, EventKind\n",
    "from nostr.relay_manager import RelayManager\n",
    "from nostr.message_type import ClientMessageType\n",
    "\n",
    "\n",
    "filters = Filters([Filter(ids=[event.id])])\n",
    "subscription_id = 'single_event'\n",
    "request = [ClientMessageType.REQUEST, subscription_id]\n",
    "request.extend(filters.to_json_array())\n",
    "message = json.dumps(request)\n",
    "\n",
    "# checking what we made above\n",
    "print(f'the request is: {request}')\n",
    "print(f'the message to the relay is: {message}')\n",
    "\n",
    "relay_manager.add_subscription(subscription_id, filters)\n",
    "print('The following subscriptions have been added to relays:')\n",
    "for relay in relay_manager:\n",
    "    print(f'{relay.url}:', relay.subscriptions.get(subscription_id)\n",
    "                                .to_json_object())"
   ]
  },
  {
   "cell_type": "code",
   "execution_count": 9,
   "metadata": {},
   "outputs": [
    {
     "name": "stdout",
     "output_type": "stream",
     "text": [
      "0 events already received\n",
      "\n",
      "{ 'content': 'Hello Nostr - testing from python-nostr',\n",
      "  'created_at': 1672011680,\n",
      "  'id': '38cf9214618636479f91c10b55fc3a8c2501dc89e0451d3c6d32475992f81105',\n",
      "  'kind': 1,\n",
      "  'pubkey': '2cc18f07ed6b32c69e08487b71703c5bc05bb869bd8f81c8b6f452141c0e91a3',\n",
      "  'sig': 'eae20a19a377b875c147ec6668c83ed3ddc5eabec7b1c3fc2714f6de9028e82bc499f31d29ab8f5ae77bc8db8160ee08e952bb4d3425e8b5cbaad12a4693fd91',\n",
      "  'tags': []}\n",
      "None\n",
      "end of single_event received.\n"
     ]
    }
   ],
   "source": [
    "import pprint\n",
    "import warnings\n",
    "\n",
    "with Connection(relay_manager, {'cert_reqs': ssl.CERT_NONE}): # NOTE: This disables ssl certificate verification\n",
    "  previous_event_ids = len(relay_manager.message_pool._unique_events)\n",
    "  print(f'{previous_event_ids} events already received\\n')\n",
    "  if event.id in relay_manager.message_pool._unique_events:\n",
    "    warnings.warn(f'event {event.id} has already been processed and won\\'t display below. '\n",
    "                   'Please reinitiate the message pool to receive it again')\n",
    "                   \n",
    "  time.sleep(1.25) # allow the connections to open\n",
    "  relay_manager.publish_message(message)\n",
    "  time.sleep(1) # allow the messages to send\n",
    "\n",
    "  while relay_manager.message_pool.has_events():\n",
    "    event_msg = relay_manager.message_pool.get_event()\n",
    "    relay_manager.message_store.update({event_msg.event.id: event_msg})\n",
    "    print(pprint.pprint(event_msg.event.to_json_object(), indent=2))\n",
    "  while relay_manager.message_pool.has_notices():\n",
    "    notice_msg = relay_manager.message_pool.get_notice()\n",
    "    print(pprint.pprint(notice_msg.event.to_json_object(), indent=2))\n",
    "  while relay_manager.message_pool.has_eose_notices():\n",
    "    eose_notice_msg = relay_manager.message_pool.get_eose_notice()\n",
    "    print(f'end of {eose_notice_msg.subscription_id} received.')"
   ]
  },
  {
   "attachments": {},
   "cell_type": "markdown",
   "metadata": {},
   "source": [
    "Now let's try to request the last 10 events from a user\n",
    "\n",
    "**TODO:** add other event types and examples below"
   ]
  },
  {
   "cell_type": "code",
   "execution_count": 10,
   "metadata": {},
   "outputs": [
    {
     "name": "stdout",
     "output_type": "stream",
     "text": [
      "the request is: ['REQ', 'last10_jack', {'kinds': [<EventKind.TEXT_NOTE: 1>], 'authors': ['82341f882b6eabcd2ba7f1ef90aad961cf074af15b9ef44a09f9d2a8fbfbe6a2'], 'limit': 5}]\n",
      "the message to the relay is: [\"REQ\", \"last10_jack\", {\"kinds\": [1], \"authors\": [\"82341f882b6eabcd2ba7f1ef90aad961cf074af15b9ef44a09f9d2a8fbfbe6a2\"], \"limit\": 5}]\n",
      "The following subscriptions have been added to relays:\n",
      "wss://nostr-2.zebedee.cloud:\n",
      "{ 'filters': [ { 'authors': [ '82341f882b6eabcd2ba7f1ef90aad961cf074af15b9ef44a09f9d2a8fbfbe6a2'],\n",
      "                 'kinds': [<EventKind.TEXT_NOTE: 1>],\n",
      "                 'limit': 5}],\n",
      "  'id': 'last10_jack'}\n",
      "\n",
      "\n",
      "wss://nostr.zebedee.cloud:\n",
      "{ 'filters': [ { 'authors': [ '82341f882b6eabcd2ba7f1ef90aad961cf074af15b9ef44a09f9d2a8fbfbe6a2'],\n",
      "                 'kinds': [<EventKind.TEXT_NOTE: 1>],\n",
      "                 'limit': 5}],\n",
      "  'id': 'last10_jack'}\n",
      "\n",
      "\n",
      "wss://nostr-relay.lnmarkets.com:\n",
      "{ 'filters': [ { 'authors': [ '82341f882b6eabcd2ba7f1ef90aad961cf074af15b9ef44a09f9d2a8fbfbe6a2'],\n",
      "                 'kinds': [<EventKind.TEXT_NOTE: 1>],\n",
      "                 'limit': 5}],\n",
      "  'id': 'last10_jack'}\n",
      "\n",
      "\n"
     ]
    }
   ],
   "source": [
    "import json\n",
    "import ssl\n",
    "import time\n",
    "from nostr.filter import Filter, Filters\n",
    "from nostr.event import Event, EventKind\n",
    "from nostr.relay_manager import RelayManager\n",
    "from nostr.message_type import ClientMessageType\n",
    "\n",
    "\n",
    "filters = Filters([Filter(authors=['82341f882b6eabcd2ba7f1ef90aad961cf074af15b9ef44a09f9d2a8fbfbe6a2'],\n",
    "                          kinds=[EventKind.TEXT_NOTE],\n",
    "                          limit=5\n",
    "                          )])\n",
    "subscription_id = 'last10_jack'\n",
    "request = [ClientMessageType.REQUEST, subscription_id]\n",
    "request.extend(filters.to_json_array())\n",
    "message = json.dumps(request)\n",
    "\n",
    "# checking what we made above\n",
    "print(f'the request is: {request}')\n",
    "print(f'the message to the relay is: {message}')\n",
    "\n",
    "relay_manager.add_subscription(subscription_id, filters)\n",
    "print('The following subscriptions have been added to relays:')\n",
    "for relay in relay_manager:\n",
    "    print(f'{relay.url}:')\n",
    "    pprint.pprint(relay.subscriptions.get(subscription_id)\n",
    "                       .to_json_object(), indent=2)\n",
    "    print('\\n')"
   ]
  },
  {
   "cell_type": "code",
   "execution_count": 11,
   "metadata": {},
   "outputs": [
    {
     "name": "stdout",
     "output_type": "stream",
     "text": [
      "1 events already received\n",
      "\n",
      "{ 'content': 'No. I’m pretty quiet',\n",
      "  'created_at': 1672010344,\n",
      "  'id': 'f83d1d06cf29d43805a18923b9a16d7e579eb3b058027ca8256d98a69736eb46',\n",
      "  'kind': 1,\n",
      "  'pubkey': '82341f882b6eabcd2ba7f1ef90aad961cf074af15b9ef44a09f9d2a8fbfbe6a2',\n",
      "  'sig': '1fa7d54420da5d37987bd65865be0f89112bd3236f07d2ec773390e314b43177971f9e8bf3292d18b0b655bd4df22adbec73f253467cfd37548bf94f925ac2f7',\n",
      "  'tags': [ [ 'e',\n",
      "              '684d45b8a395b51bc38f66863c752bfa9c40fe0451e023c66e63b497a292f08a',\n",
      "              'wss://nostr-pub.wellorder.net'],\n",
      "            [ 'e',\n",
      "              'fe46af93ea3fe98eef1f42d5b7c284ec2fd813a64574ad5fbb195512ff873f2c'],\n",
      "            [ 'p',\n",
      "              '5aec57f756b06f92dded240bb0122771bbe5d57e444ac243da4d708f807528d0',\n",
      "              'wss://nostr-pub.wellorder.net'],\n",
      "            [ 'p',\n",
      "              'c1deeda422c79b645ee58d8cb1b839a21a25926c9d94c21628ce8e2d89c3dbc8',\n",
      "              'wss://nostr.rocks'],\n",
      "            [ 'p',\n",
      "              'c134bfc9082e1337ce67013fe0f9b8f70c0d3866ae4094eb55e67f3eac92e8cc',\n",
      "              'wss://nostr-pub.wellorder.net'],\n",
      "            [ 'p',\n",
      "              'a4471e580e988f1cdf1d7866b79efecc312f18decd6eb6d3daf031ee7a298948',\n",
      "              'wss://nostr-pub.wellorder.net'],\n",
      "            [ 'p',\n",
      "              '3b1b2b476c6feceba1282cc6c268009f778bdcd9ed28d3b3b0913a82d1a952d1']]}\n",
      "None\n",
      "{ 'content': 'It’s the future of veganism #[7]',\n",
      "  'created_at': 1672010194,\n",
      "  'id': '9730a1f621be24d70a724a72ebe1157abaddbfc8d7be015cc95f6f28e7554164',\n",
      "  'kind': 1,\n",
      "  'pubkey': '82341f882b6eabcd2ba7f1ef90aad961cf074af15b9ef44a09f9d2a8fbfbe6a2',\n",
      "  'sig': '7565e2d73b630a3cadf0388b101347036e5172fadcb14099b5e61a4c1160eaef5d73e706910add5b4b4419bf93d3cf78cea21019be8aba32b4e3179aba01ac57',\n",
      "  'tags': [ [ 'e',\n",
      "              '684d45b8a395b51bc38f66863c752bfa9c40fe0451e023c66e63b497a292f08a',\n",
      "              'wss://nostr.bitcoiner.social'],\n",
      "            [ 'e',\n",
      "              '3b6090eac3468dec9c8bcc11eb7ddeed424353a707ecd0a55627427186974090'],\n",
      "            [ 'p',\n",
      "              '5aec57f756b06f92dded240bb0122771bbe5d57e444ac243da4d708f807528d0'],\n",
      "            [ 'p',\n",
      "              'c1deeda422c79b645ee58d8cb1b839a21a25926c9d94c21628ce8e2d89c3dbc8'],\n",
      "            [ 'p',\n",
      "              'c134bfc9082e1337ce67013fe0f9b8f70c0d3866ae4094eb55e67f3eac92e8cc'],\n",
      "            [ 'p',\n",
      "              'a4471e580e988f1cdf1d7866b79efecc312f18decd6eb6d3daf031ee7a298948'],\n",
      "            [ 'p',\n",
      "              'b94787f618a9a5e20454aa0069e98c9e222d3d116dd0e4689ca51e635c4844c5'],\n",
      "            [ 'p',\n",
      "              'e88a691e98d9987c964521dff60025f60700378a4879180dcbbb4a5027850411']]}\n",
      "None\n",
      "{ 'content': 'I was vegan for 2 years. A friend for over 25. Worst health for '\n",
      "             'both of us.',\n",
      "  'created_at': 1672009349,\n",
      "  'id': '10900f56e69ee0a7036fd21328d8eb2d54430cf846da42abb499525af7825b6b',\n",
      "  'kind': 1,\n",
      "  'pubkey': '82341f882b6eabcd2ba7f1ef90aad961cf074af15b9ef44a09f9d2a8fbfbe6a2',\n",
      "  'sig': 'bd63e34a151e70b738248d4b3d01bf45d285b36e7458005238140d4ce0f890730fffdb5a08771bd2b2bfcab39b6a7df6b6eb510fd8df97dc23fc89181f52f6b4',\n",
      "  'tags': [ [ 'e',\n",
      "              '684d45b8a395b51bc38f66863c752bfa9c40fe0451e023c66e63b497a292f08a',\n",
      "              'wss://nostr.bitcoiner.social'],\n",
      "            [ 'e',\n",
      "              'cc9584448172d428bd61e11948a84739379127a64634e1024ad4a238047e70a5'],\n",
      "            [ 'p',\n",
      "              '5aec57f756b06f92dded240bb0122771bbe5d57e444ac243da4d708f807528d0'],\n",
      "            [ 'p',\n",
      "              'c1deeda422c79b645ee58d8cb1b839a21a25926c9d94c21628ce8e2d89c3dbc8'],\n",
      "            [ 'p',\n",
      "              'c134bfc9082e1337ce67013fe0f9b8f70c0d3866ae4094eb55e67f3eac92e8cc'],\n",
      "            [ 'p',\n",
      "              'a4471e580e988f1cdf1d7866b79efecc312f18decd6eb6d3daf031ee7a298948']]}\n",
      "None\n",
      "{ 'content': 'Never heard of it',\n",
      "  'created_at': 1672007583,\n",
      "  'id': 'a036836d4280831bc69464f957536a1e5652fcddd695df77ba4514d9db610542',\n",
      "  'kind': 1,\n",
      "  'pubkey': '82341f882b6eabcd2ba7f1ef90aad961cf074af15b9ef44a09f9d2a8fbfbe6a2',\n",
      "  'sig': '59ea1ec3293039dec1218b0f7baab4500e584a2ec8ce49c5aea801fc3ee29184b8952b6388fe66565099eef9abe3bd6323053c6ff5e70c5cc3ac40767e75cfaa',\n",
      "  'tags': [ [ 'e',\n",
      "              'd26a2600923f4be825c5bcb2433c79285ab81f190fa13d02e597799b7ad1c18c',\n",
      "              'wss://nostr.oxtr.dev'],\n",
      "            [ 'e',\n",
      "              '3f50a9d9b7c4016f6ee2cc834a0ac11504bb0bb1c547b0134761b80b10ddc4f2'],\n",
      "            [ 'p',\n",
      "              'd987084c48390a290f5d2a34603ae64f55137d9b4affced8c0eae030eb222a25'],\n",
      "            [ 'p',\n",
      "              '1c786ecbd69cc3898169965d1005aebb450db1fa7ce881d105d9de4dfe537b17'],\n",
      "            [ 'p',\n",
      "              '6867d899ce6b677b89052602cfe04a165f26bb6a1a6390355f497f9ee5cb0796']]}\n",
      "None\n",
      "{ 'content': 'ftw',\n",
      "  'created_at': 1672007413,\n",
      "  'id': '322d0649a93b0a17eac005e85fef4f847536da75f54a4269b64d53e7afc9b028',\n",
      "  'kind': 1,\n",
      "  'pubkey': '82341f882b6eabcd2ba7f1ef90aad961cf074af15b9ef44a09f9d2a8fbfbe6a2',\n",
      "  'sig': '4ed655bbfe50203f2616dd6c0b019441dacc375b30552fb63a32d371732d888f2ab33601a1cf1d777cd81cc3563178de528dd47b29a6ea58d42f89e6b33c26fb',\n",
      "  'tags': [ [ 'e',\n",
      "              'c680a6dac5cc8ecce3be0c40701bb872baf2bff1ec2dc14d008eb652233dd478'],\n",
      "            [ 'p',\n",
      "              '7688053a111e466966111d8498368e817dd548da2fca3e2d941e76e43442d338']]}\n",
      "None\n",
      "end of last10_jack received.\n"
     ]
    }
   ],
   "source": [
    "import warnings\n",
    "\n",
    "messages = {}\n",
    "\n",
    "with Connection(relay_manager, {\"cert_reqs\": ssl.CERT_NONE}): # NOTE: This disables ssl certificate verification\n",
    "  previous_event_ids = len(relay_manager.message_pool._unique_events)\n",
    "  print(f'{previous_event_ids} events already received\\n')\n",
    "\n",
    "  time.sleep(1.25) # allow the connections to open\n",
    "  relay_manager.publish_message(message)\n",
    "  time.sleep(1) # allow the messages to send\n",
    "  \n",
    "  while relay_manager.message_pool.has_events():\n",
    "    event_msg = relay_manager.message_pool.get_event()\n",
    "    relay_manager.message_store.update({event_msg.event.id: event_msg})\n",
    "    print(pprint.pprint(event_msg.event.to_json_object(), indent=2))\n",
    "  while relay_manager.message_pool.has_notices():\n",
    "    notice_msg = relay_manager.message_pool.get_notice()\n",
    "    print(pprint.pprint(notice_msg.event.to_json_object(), indent=2))\n",
    "  while relay_manager.message_pool.has_eose_notices():\n",
    "    eose_notice_msg = relay_manager.message_pool.get_eose_notice()\n",
    "    print(f'end of {eose_notice_msg.subscription_id} received.')"
   ]
  },
  {
   "attachments": {},
   "cell_type": "markdown",
   "metadata": {},
   "source": [
    "## checking out the received events\n",
    "\n",
    "remember we saved our messages into a dict we attached to the `RelayManager`. Typically, a client will be saving messages in a more robust way, but this was good enough to see how the `python-nostr` functions."
   ]
  },
  {
   "cell_type": "code",
   "execution_count": 12,
   "metadata": {},
   "outputs": [
    {
     "name": "stdout",
     "output_type": "stream",
     "text": [
      "{ '10900f56e69ee0a7036fd21328d8eb2d54430cf846da42abb499525af7825b6b': <nostr.message_pool.EventMessage object at 0x10baf2770>,\n",
      "  '322d0649a93b0a17eac005e85fef4f847536da75f54a4269b64d53e7afc9b028': <nostr.message_pool.EventMessage object at 0x10baf1750>,\n",
      "  '38cf9214618636479f91c10b55fc3a8c2501dc89e0451d3c6d32475992f81105': <nostr.message_pool.EventMessage object at 0x1096bc910>,\n",
      "  '9730a1f621be24d70a724a72ebe1157abaddbfc8d7be015cc95f6f28e7554164': <nostr.message_pool.EventMessage object at 0x10baf17e0>,\n",
      "  'a036836d4280831bc69464f957536a1e5652fcddd695df77ba4514d9db610542': <nostr.message_pool.EventMessage object at 0x10baf2890>,\n",
      "  'f83d1d06cf29d43805a18923b9a16d7e579eb3b058027ca8256d98a69736eb46': <nostr.message_pool.EventMessage object at 0x10baf3dc0>}\n"
     ]
    }
   ],
   "source": [
    "pprint.pprint(relay_manager.message_store, indent=2)"
   ]
  },
  {
   "cell_type": "code",
   "execution_count": 15,
   "metadata": {},
   "outputs": [
    {
     "name": "stdout",
     "output_type": "stream",
     "text": [
      "author: 2cc18f07ed6b32c69e08487b71703c5bc05bb869bd8f81c8b6f452141c0e91a3\n",
      "\tHello Nostr - testing from python-nostr\n",
      "\n",
      "author: 82341f882b6eabcd2ba7f1ef90aad961cf074af15b9ef44a09f9d2a8fbfbe6a2\n",
      "\tNo. I’m pretty quiet\n",
      "\n",
      "author: 82341f882b6eabcd2ba7f1ef90aad961cf074af15b9ef44a09f9d2a8fbfbe6a2\n",
      "\tIt’s the future of veganism #[7]\n",
      "\n",
      "author: 82341f882b6eabcd2ba7f1ef90aad961cf074af15b9ef44a09f9d2a8fbfbe6a2\n",
      "\tI was vegan for 2 years. A friend for over 25. Worst health for both of us.\n",
      "\n",
      "author: 82341f882b6eabcd2ba7f1ef90aad961cf074af15b9ef44a09f9d2a8fbfbe6a2\n",
      "\tNever heard of it\n",
      "\n",
      "author: 82341f882b6eabcd2ba7f1ef90aad961cf074af15b9ef44a09f9d2a8fbfbe6a2\n",
      "\tftw\n",
      "\n"
     ]
    }
   ],
   "source": [
    "for event_id, event_msg in relay_manager.message_store.items():\n",
    "    print(f'author: {event_msg.event.public_key}')\n",
    "    print(f'\\t{event_msg.event.content}\\n')"
   ]
  },
  {
   "cell_type": "code",
   "execution_count": null,
   "metadata": {},
   "outputs": [],
   "source": []
  }
 ],
 "metadata": {
  "kernelspec": {
   "display_name": "nostr",
   "language": "python",
   "name": "python3"
  },
  "language_info": {
   "codemirror_mode": {
    "name": "ipython",
    "version": 3
   },
   "file_extension": ".py",
   "mimetype": "text/x-python",
   "name": "python",
   "nbconvert_exporter": "python",
   "pygments_lexer": "ipython3",
   "version": "3.10.8"
  },
  "orig_nbformat": 4,
  "vscode": {
   "interpreter": {
    "hash": "cfb5954440880a8bdfa8cd43661a47c215d8cad7a51efaf803159f1c33433c31"
   }
  }
 },
 "nbformat": 4,
 "nbformat_minor": 2
}
