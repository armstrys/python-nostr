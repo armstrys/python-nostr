{
 "cells": [
  {
   "cell_type": "code",
   "execution_count": 1,
   "metadata": {},
   "outputs": [],
   "source": [
    "import sys\n",
    "import time\n",
    "from pathlib import Path\n",
    "import ssl\n",
    "\n",
    "sys.path.append(str(Path('../').resolve()))\n",
    "assert 'python-nostr' in [Path(path).name for path in sys.path]\n",
    "\n",
    "from nostr.key import PrivateKey, PublicKey\n",
    "from client import Client"
   ]
  },
  {
   "attachments": {},
   "cell_type": "markdown",
   "metadata": {},
   "source": [
    "## I'm loading my key from disk"
   ]
  },
  {
   "cell_type": "code",
   "execution_count": 2,
   "metadata": {},
   "outputs": [
    {
     "name": "stdout",
     "output_type": "stream",
     "text": [
      "Loaded private key from private_key.txt\n",
      "Public key: npub19nqc7plddvevd8sgfpahzuput0q9hwrfhk8crj9k73fpg8qwjx3sk6224n\n"
     ]
    }
   ],
   "source": [
    "key_file = Path('./private_key.txt') # saving a private key for testing\n",
    "if key_file.exists():\n",
    "    with open(key_file, 'r') as f:\n",
    "        pk_hex = f.read()\n",
    "        private_key = PrivateKey.from_hex(pk_hex)\n",
    "    public_key = private_key.public_key\n",
    "    print(f'Loaded private key from {key_file}')\n",
    "    print(f'Public key: {public_key.bech32()}')\n",
    "else:\n",
    "    private_key = PrivateKey()\n",
    "    public_key = private_key.public_key\n",
    "    print(f\"Generated new private key\")\n",
    "    print(f\"Public key: {public_key.bech32()}\")\n",
    "    pk_hex = private_key.hex()\n",
    "    with open(key_file, 'w') as f:\n",
    "        f.write(pk_hex)"
   ]
  },
  {
   "cell_type": "code",
   "execution_count": 3,
   "metadata": {},
   "outputs": [
    {
     "name": "stdout",
     "output_type": "stream",
     "text": [
      "logged in as public key\n",
      "\tbech32: npub1rv4qdc3xhhk9hlkfuv4yyak34reqdsxhzj08at77lu68mdpxy8vscjl4er\n",
      "\thex: 1b2a06e226bdec5bfec9e32a4276d1a8f206c0d7149e7eafdeff347db42621d9\n",
      "logged in as public key\n",
      "\tbech32: npub19nqc7plddvevd8sgfpahzuput0q9hwrfhk8crj9k73fpg8qwjx3sk6224n\n",
      "\thex: 2cc18f07ed6b32c69e08487b71703c5bc05bb869bd8f81c8b6f452141c0e91a3\n",
      "logged in as public key\n",
      "\tbech32: npub19nqc7plddvevd8sgfpahzuput0q9hwrfhk8crj9k73fpg8qwjx3sk6224n\n",
      "\thex: 2cc18f07ed6b32c69e08487b71703c5bc05bb869bd8f81c8b6f452141c0e91a3\n",
      "logged in as public key\n",
      "\tbech32: npub19nqc7plddvevd8sgfpahzuput0q9hwrfhk8crj9k73fpg8qwjx3sk6224n\n",
      "\thex: 2cc18f07ed6b32c69e08487b71703c5bc05bb869bd8f81c8b6f452141c0e91a3\n"
     ]
    }
   ],
   "source": [
    "# load client with no keys\n",
    "client = Client(ssl_options={'cert_reqs': ssl.CERT_NONE})\n",
    "\n",
    "# load client with public key only\n",
    "client = Client(ssl_options={'cert_reqs': ssl.CERT_NONE}, public_key_hex=public_key.hex())\n",
    "assert client.public_key.hex() == public_key.hex()\n",
    "assert client.private_key is None\n",
    "\n",
    "# load client with public key and private key\n",
    "client = Client(ssl_options={'cert_reqs': ssl.CERT_NONE}, public_key_hex=public_key.hex(), private_key_hex=pk_hex)\n",
    "assert client.public_key.hex() == public_key.hex()\n",
    "assert client.private_key.hex() == pk_hex\n",
    "\n",
    "# load client with private key only\n",
    "client = Client(ssl_options={'cert_reqs': ssl.CERT_NONE}, private_key_hex=pk_hex)\n",
    "assert client.public_key.hex() == public_key.hex()\n",
    "assert client.private_key.hex() == pk_hex\n"
   ]
  },
  {
   "attachments": {},
   "cell_type": "markdown",
   "metadata": {},
   "source": [
    "# client\n",
    "instantiating a basic client and testing connections"
   ]
  },
  {
   "cell_type": "code",
   "execution_count": 4,
   "metadata": {},
   "outputs": [
    {
     "name": "stdout",
     "output_type": "stream",
     "text": [
      "logged in as public key\n",
      "\tbech32: npub1smzzfdx03m2saa93mgqlye59gugxhl4f0942g6dymapx7u4cz86sf8k5p8\n",
      "\thex: 86c424b4cf8ed50ef4b1da01f2668547106bfea9796aa469a4df426f72b811f5\n",
      "{'wss://nostr-2.zebedee.cloud': True, 'wss://nostr-relay.lnmarkets.com': True, 'wss://relay.damus.io': True}\n",
      "exiting client\n",
      "{'wss://nostr-2.zebedee.cloud': False, 'wss://nostr-relay.lnmarkets.com': False, 'wss://relay.damus.io': False}\n"
     ]
    }
   ],
   "source": [
    "client = Client(ssl_options={'cert_reqs': ssl.CERT_NONE})\n",
    "\n",
    "with client:\n",
    "    print(client.relay_manager.connection_statuses)\n",
    "    print('exiting client')\n",
    "print(client.relay_manager.connection_statuses)"
   ]
  },
  {
   "attachments": {},
   "cell_type": "markdown",
   "metadata": {},
   "source": [
    "# make a simple text input client\n",
    "\n",
    "we will instantiate it with the proper options first"
   ]
  },
  {
   "cell_type": "code",
   "execution_count": 5,
   "metadata": {},
   "outputs": [
    {
     "data": {
      "text/plain": [
       "'2cc18f07ed6b32c69e08487b71703c5bc05bb869bd8f81c8b6f452141c0e91a3'"
      ]
     },
     "execution_count": 5,
     "metadata": {},
     "output_type": "execute_result"
    }
   ],
   "source": [
    "public_key.hex()"
   ]
  },
  {
   "cell_type": "code",
   "execution_count": 6,
   "metadata": {},
   "outputs": [
    {
     "name": "stdout",
     "output_type": "stream",
     "text": [
      "logged in as public key\n",
      "\tbech32: npub19nqc7plddvevd8sgfpahzuput0q9hwrfhk8crj9k73fpg8qwjx3sk6224n\n",
      "\thex: 2cc18f07ed6b32c69e08487b71703c5bc05bb869bd8f81c8b6f452141c0e91a3\n"
     ]
    }
   ],
   "source": [
    "from client import TextInputClient\n",
    "import ssl\n",
    "\n",
    "text_client = TextInputClient(ssl_options={'cert_reqs': ssl.CERT_NONE}, allow_duplicates=True, private_key_hex=pk_hex)"
   ]
  },
  {
   "attachments": {},
   "cell_type": "markdown",
   "metadata": {},
   "source": [
    "## run it\n",
    "with a simple `with` context. the `__enter__` method calls the `run` command of the client so we can just call `pass` so that nothing else happens after we exit the `run` method before the we `__exit__` the clients and the connections are closed."
   ]
  },
  {
   "cell_type": "code",
   "execution_count": 7,
   "metadata": {},
   "outputs": [
    {
     "name": "stdout",
     "output_type": "stream",
     "text": [
      "select a command:\n",
      "                \t0\tE(x)it\n",
      "                \t1\tpublish note\n",
      "                \t2\tget last 10 notes by you\n",
      "                \t3\tget last 10 from hex of author\n",
      "                \t4\tdelete an event\n",
      "                \t5\tcheck deletions\n",
      "                \t6\tget metadata by hex of user\n",
      "                \t7\tcheck event\n",
      "                \t8\tget recommended server\n",
      "                \t9\tget contacts\n",
      "                \t10\tprint relays\n",
      "                \t11\tadd relay\n",
      "                \n",
      "connection status: {'wss://nostr-2.zebedee.cloud': True, 'wss://nostr-relay.lnmarkets.com': True, 'wss://relay.damus.io': True, 'wss://relay.nostr.ch': True}\n",
      "select a command:\n",
      "                \t0\tE(x)it\n",
      "                \t1\tpublish note\n",
      "                \t2\tget last 10 notes by you\n",
      "                \t3\tget last 10 from hex of author\n",
      "                \t4\tdelete an event\n",
      "                \t5\tcheck deletions\n",
      "                \t6\tget metadata by hex of user\n",
      "                \t7\tcheck event\n",
      "                \t8\tget recommended server\n",
      "                \t9\tget contacts\n",
      "                \t10\tprint relays\n",
      "                \t11\tadd relay\n",
      "                \n",
      "author: 2cc18f07ed6b32c69e08487b71703c5bc05bb869bd8f81c8b6f452141c0e91a3\n",
      "event id: 8ef29ed0e5d191bc9d5b751f4eccd20f1b13940df886527487245f6cfe9bc13d\n",
      "url: wss://nostr-2.zebedee.cloud\n",
      "\thello, world :)\n",
      "author: 2cc18f07ed6b32c69e08487b71703c5bc05bb869bd8f81c8b6f452141c0e91a3\n",
      "event id: af7dbd564948e9e7ef7a481041c7befedb5ec00b346ea033cd13db9201ff1b77\n",
      "url: wss://nostr-2.zebedee.cloud\n",
      "\ttesting different relays...\n",
      "author: 2cc18f07ed6b32c69e08487b71703c5bc05bb869bd8f81c8b6f452141c0e91a3\n",
      "event id: 27cf065883f63084af15bdfdab9e24d68126ca0ec1522675b47c05781e005888\n",
      "url: wss://nostr-2.zebedee.cloud\n",
      "\tthis is but a test\n",
      "author: 2cc18f07ed6b32c69e08487b71703c5bc05bb869bd8f81c8b6f452141c0e91a3\n",
      "event id: b6b21ee8f696998d5f4f0a62cde449edab46353ba8c91ceeb5c9a15a3b895b85\n",
      "url: wss://nostr-2.zebedee.cloud\n",
      "\tplease ignore this test\n",
      "author: 2cc18f07ed6b32c69e08487b71703c5bc05bb869bd8f81c8b6f452141c0e91a3\n",
      "event id: 4d1c3b10f2e1f7a5fd655d323f2b4cade53284b9765a0ef15cdce6aec0b6fc88\n",
      "url: wss://nostr-2.zebedee.cloud\n",
      "\ttest!\n",
      "author: 2cc18f07ed6b32c69e08487b71703c5bc05bb869bd8f81c8b6f452141c0e91a3\n",
      "event id: 260012d4b5ca660bca4f945d5c2cba0292c1a3f4a503244ba7a98a745cadd3cb\n",
      "url: wss://nostr-2.zebedee.cloud\n",
      "\ttesting again\n",
      "author: 2cc18f07ed6b32c69e08487b71703c5bc05bb869bd8f81c8b6f452141c0e91a3\n",
      "event id: c84dde640953d1fba80ce80a58c489b6920d92fa3007875e31824d47a4c1b76d\n",
      "url: wss://nostr-2.zebedee.cloud\n",
      "\tthis note needs to be deleted\n",
      "author: 2cc18f07ed6b32c69e08487b71703c5bc05bb869bd8f81c8b6f452141c0e91a3\n",
      "event id: 33af995f8df811609b91b31469b2df604f693b70664abb3aa572f318a0f9ed5e\n",
      "url: wss://nostr-2.zebedee.cloud\n",
      "\tdo something\n",
      "author: 2cc18f07ed6b32c69e08487b71703c5bc05bb869bd8f81c8b6f452141c0e91a3\n",
      "event id: 3691a8b3065ff9acf4588e3de3666715e40667cfcfff70aa8a593eadf1f7fa85\n",
      "url: wss://nostr-2.zebedee.cloud\n",
      "\thi :)\n",
      "author: 2cc18f07ed6b32c69e08487b71703c5bc05bb869bd8f81c8b6f452141c0e91a3\n",
      "event id: 3fa85d5e7921e7210b6fc86482d69b201d32aff0196fdf4f023c274e64c9fd54\n",
      "url: wss://nostr-2.zebedee.cloud\n",
      "\tcan anyone here me\n",
      "end of subscription: 2cc18f07ed6b32c69e08487b71703c5bc05bb869bd8f81c8b6f452141c0e91a3_last10 received.\n",
      "end of subscription: 2cc18f07ed6b32c69e08487b71703c5bc05bb869bd8f81c8b6f452141c0e91a3_last10 received.\n",
      "{'wss://nostr-2.zebedee.cloud:8ef29ed0e5d191bc9d5b751f4eccd20f1b13940df886527487245f6cfe9bc13d': <nostr.message_pool.EventMessage object at 0x10c529a80>, 'wss://nostr-2.zebedee.cloud:af7dbd564948e9e7ef7a481041c7befedb5ec00b346ea033cd13db9201ff1b77': <nostr.message_pool.EventMessage object at 0x10c5298a0>, 'wss://nostr-2.zebedee.cloud:27cf065883f63084af15bdfdab9e24d68126ca0ec1522675b47c05781e005888': <nostr.message_pool.EventMessage object at 0x10c52a9b0>, 'wss://nostr-2.zebedee.cloud:b6b21ee8f696998d5f4f0a62cde449edab46353ba8c91ceeb5c9a15a3b895b85': <nostr.message_pool.EventMessage object at 0x10c52a830>, 'wss://nostr-2.zebedee.cloud:4d1c3b10f2e1f7a5fd655d323f2b4cade53284b9765a0ef15cdce6aec0b6fc88': <nostr.message_pool.EventMessage object at 0x10c52a890>, 'wss://nostr-2.zebedee.cloud:260012d4b5ca660bca4f945d5c2cba0292c1a3f4a503244ba7a98a745cadd3cb': <nostr.message_pool.EventMessage object at 0x10c529930>, 'wss://nostr-2.zebedee.cloud:c84dde640953d1fba80ce80a58c489b6920d92fa3007875e31824d47a4c1b76d': <nostr.message_pool.EventMessage object at 0x10c52a0e0>, 'wss://nostr-2.zebedee.cloud:33af995f8df811609b91b31469b2df604f693b70664abb3aa572f318a0f9ed5e': <nostr.message_pool.EventMessage object at 0x10c52a7a0>, 'wss://nostr-2.zebedee.cloud:3691a8b3065ff9acf4588e3de3666715e40667cfcfff70aa8a593eadf1f7fa85': <nostr.message_pool.EventMessage object at 0x10c52a080>, 'wss://nostr-2.zebedee.cloud:3fa85d5e7921e7210b6fc86482d69b201d32aff0196fdf4f023c274e64c9fd54': <nostr.message_pool.EventMessage object at 0x10c529f90>}\n",
      "select a command:\n",
      "                \t0\tE(x)it\n",
      "                \t1\tpublish note\n",
      "                \t2\tget last 10 notes by you\n",
      "                \t3\tget last 10 from hex of author\n",
      "                \t4\tdelete an event\n",
      "                \t5\tcheck deletions\n",
      "                \t6\tget metadata by hex of user\n",
      "                \t7\tcheck event\n",
      "                \t8\tget recommended server\n",
      "                \t9\tget contacts\n",
      "                \t10\tprint relays\n",
      "                \t11\tadd relay\n",
      "                \n",
      "note:\n",
      "\n",
      "hello?\n",
      "[\"EVENT\", {\"id\": \"ff348a6c240f607bcbd4dfe9f134ff5b34115457ad833116bd2fc3084f1d826d\", \"pubkey\": \"2cc18f07ed6b32c69e08487b71703c5bc05bb869bd8f81c8b6f452141c0e91a3\", \"created_at\": 1672165181, \"kind\": 1, \"tags\": [], \"content\": \"hello?\", \"sig\": \"209b2ec746fdcc5ac2a471c4a9fef6e8b55d350831715aacc2067bd2dbe9f54e52c89e6e13819aa0da24edbed835b68849388e54d857ff6ad0288f9c4484c30f\"}]\n",
      "published.\n",
      "select a command:\n",
      "                \t0\tE(x)it\n",
      "                \t1\tpublish note\n",
      "                \t2\tget last 10 notes by you\n",
      "                \t3\tget last 10 from hex of author\n",
      "                \t4\tdelete an event\n",
      "                \t5\tcheck deletions\n",
      "                \t6\tget metadata by hex of user\n",
      "                \t7\tcheck event\n",
      "                \t8\tget recommended server\n",
      "                \t9\tget contacts\n",
      "                \t10\tprint relays\n",
      "                \t11\tadd relay\n",
      "                \n",
      "author: 2cc18f07ed6b32c69e08487b71703c5bc05bb869bd8f81c8b6f452141c0e91a3\n",
      "event id: ff348a6c240f607bcbd4dfe9f134ff5b34115457ad833116bd2fc3084f1d826d\n",
      "url: wss://relay.damus.io\n",
      "\thello?\n",
      "author: 2cc18f07ed6b32c69e08487b71703c5bc05bb869bd8f81c8b6f452141c0e91a3\n",
      "event id: ff348a6c240f607bcbd4dfe9f134ff5b34115457ad833116bd2fc3084f1d826d\n",
      "url: wss://nostr-2.zebedee.cloud\n",
      "\thello?\n",
      "author: 2cc18f07ed6b32c69e08487b71703c5bc05bb869bd8f81c8b6f452141c0e91a3\n",
      "event id: ff348a6c240f607bcbd4dfe9f134ff5b34115457ad833116bd2fc3084f1d826d\n",
      "url: wss://relay.nostr.ch\n",
      "\thello?\n",
      "author: 2cc18f07ed6b32c69e08487b71703c5bc05bb869bd8f81c8b6f452141c0e91a3\n",
      "event id: ff348a6c240f607bcbd4dfe9f134ff5b34115457ad833116bd2fc3084f1d826d\n",
      "url: wss://nostr-2.zebedee.cloud\n",
      "\thello?\n",
      "author: 2cc18f07ed6b32c69e08487b71703c5bc05bb869bd8f81c8b6f452141c0e91a3\n",
      "event id: 8ef29ed0e5d191bc9d5b751f4eccd20f1b13940df886527487245f6cfe9bc13d\n",
      "url: wss://nostr-2.zebedee.cloud\n",
      "\thello, world :)\n",
      "author: 2cc18f07ed6b32c69e08487b71703c5bc05bb869bd8f81c8b6f452141c0e91a3\n",
      "event id: af7dbd564948e9e7ef7a481041c7befedb5ec00b346ea033cd13db9201ff1b77\n",
      "url: wss://nostr-2.zebedee.cloud\n",
      "\ttesting different relays...\n",
      "author: 2cc18f07ed6b32c69e08487b71703c5bc05bb869bd8f81c8b6f452141c0e91a3\n",
      "event id: 27cf065883f63084af15bdfdab9e24d68126ca0ec1522675b47c05781e005888\n",
      "url: wss://nostr-2.zebedee.cloud\n",
      "\tthis is but a test\n",
      "author: 2cc18f07ed6b32c69e08487b71703c5bc05bb869bd8f81c8b6f452141c0e91a3\n",
      "event id: b6b21ee8f696998d5f4f0a62cde449edab46353ba8c91ceeb5c9a15a3b895b85\n",
      "url: wss://nostr-2.zebedee.cloud\n",
      "\tplease ignore this test\n",
      "author: 2cc18f07ed6b32c69e08487b71703c5bc05bb869bd8f81c8b6f452141c0e91a3\n",
      "event id: 4d1c3b10f2e1f7a5fd655d323f2b4cade53284b9765a0ef15cdce6aec0b6fc88\n",
      "url: wss://nostr-2.zebedee.cloud\n",
      "\ttest!\n",
      "author: 2cc18f07ed6b32c69e08487b71703c5bc05bb869bd8f81c8b6f452141c0e91a3\n",
      "event id: 260012d4b5ca660bca4f945d5c2cba0292c1a3f4a503244ba7a98a745cadd3cb\n",
      "url: wss://nostr-2.zebedee.cloud\n",
      "\ttesting again\n",
      "author: 2cc18f07ed6b32c69e08487b71703c5bc05bb869bd8f81c8b6f452141c0e91a3\n",
      "event id: c84dde640953d1fba80ce80a58c489b6920d92fa3007875e31824d47a4c1b76d\n",
      "url: wss://nostr-2.zebedee.cloud\n",
      "\tthis note needs to be deleted\n",
      "author: 2cc18f07ed6b32c69e08487b71703c5bc05bb869bd8f81c8b6f452141c0e91a3\n",
      "event id: 33af995f8df811609b91b31469b2df604f693b70664abb3aa572f318a0f9ed5e\n",
      "url: wss://nostr-2.zebedee.cloud\n",
      "\tdo something\n",
      "author: 2cc18f07ed6b32c69e08487b71703c5bc05bb869bd8f81c8b6f452141c0e91a3\n",
      "event id: 3691a8b3065ff9acf4588e3de3666715e40667cfcfff70aa8a593eadf1f7fa85\n",
      "url: wss://nostr-2.zebedee.cloud\n",
      "\thi :)\n",
      "end of subscription: 2cc18f07ed6b32c69e08487b71703c5bc05bb869bd8f81c8b6f452141c0e91a3_last10 received.\n",
      "{'wss://nostr-2.zebedee.cloud:8ef29ed0e5d191bc9d5b751f4eccd20f1b13940df886527487245f6cfe9bc13d': <nostr.message_pool.EventMessage object at 0x10c52bdc0>, 'wss://nostr-2.zebedee.cloud:af7dbd564948e9e7ef7a481041c7befedb5ec00b346ea033cd13db9201ff1b77': <nostr.message_pool.EventMessage object at 0x10c52bd00>, 'wss://nostr-2.zebedee.cloud:27cf065883f63084af15bdfdab9e24d68126ca0ec1522675b47c05781e005888': <nostr.message_pool.EventMessage object at 0x10c529a20>, 'wss://nostr-2.zebedee.cloud:b6b21ee8f696998d5f4f0a62cde449edab46353ba8c91ceeb5c9a15a3b895b85': <nostr.message_pool.EventMessage object at 0x10c52bca0>, 'wss://nostr-2.zebedee.cloud:4d1c3b10f2e1f7a5fd655d323f2b4cade53284b9765a0ef15cdce6aec0b6fc88': <nostr.message_pool.EventMessage object at 0x10c529c30>, 'wss://nostr-2.zebedee.cloud:260012d4b5ca660bca4f945d5c2cba0292c1a3f4a503244ba7a98a745cadd3cb': <nostr.message_pool.EventMessage object at 0x10c52bcd0>, 'wss://nostr-2.zebedee.cloud:c84dde640953d1fba80ce80a58c489b6920d92fa3007875e31824d47a4c1b76d': <nostr.message_pool.EventMessage object at 0x10c52bac0>, 'wss://nostr-2.zebedee.cloud:33af995f8df811609b91b31469b2df604f693b70664abb3aa572f318a0f9ed5e': <nostr.message_pool.EventMessage object at 0x10c52ba30>, 'wss://nostr-2.zebedee.cloud:3691a8b3065ff9acf4588e3de3666715e40667cfcfff70aa8a593eadf1f7fa85': <nostr.message_pool.EventMessage object at 0x10c52b9a0>, 'wss://nostr-2.zebedee.cloud:3fa85d5e7921e7210b6fc86482d69b201d32aff0196fdf4f023c274e64c9fd54': <nostr.message_pool.EventMessage object at 0x10c529f90>, 'wss://relay.damus.io:ff348a6c240f607bcbd4dfe9f134ff5b34115457ad833116bd2fc3084f1d826d': <nostr.message_pool.EventMessage object at 0x10c529db0>, 'wss://nostr-2.zebedee.cloud:ff348a6c240f607bcbd4dfe9f134ff5b34115457ad833116bd2fc3084f1d826d': <nostr.message_pool.EventMessage object at 0x10c52bf70>, 'wss://relay.nostr.ch:ff348a6c240f607bcbd4dfe9f134ff5b34115457ad833116bd2fc3084f1d826d': <nostr.message_pool.EventMessage object at 0x10c529cc0>}\n",
      "select a command:\n",
      "                \t0\tE(x)it\n",
      "                \t1\tpublish note\n",
      "                \t2\tget last 10 notes by you\n",
      "                \t3\tget last 10 from hex of author\n",
      "                \t4\tdelete an event\n",
      "                \t5\tcheck deletions\n",
      "                \t6\tget metadata by hex of user\n",
      "                \t7\tcheck event\n",
      "                \t8\tget recommended server\n",
      "                \t9\tget contacts\n",
      "                \t10\tprint relays\n",
      "                \t11\tadd relay\n",
      "                \n",
      "exiting\n"
     ]
    }
   ],
   "source": [
    "with text_client:\n",
    "    pass"
   ]
  },
  {
   "cell_type": "code",
   "execution_count": 8,
   "metadata": {},
   "outputs": [],
   "source": [
    "test = text_client.message_store"
   ]
  },
  {
   "attachments": {},
   "cell_type": "markdown",
   "metadata": {},
   "source": [
    "## note that we can see duplicate events across relays now!"
   ]
  },
  {
   "cell_type": "code",
   "execution_count": 9,
   "metadata": {},
   "outputs": [
    {
     "data": {
      "text/plain": [
       "{'wss://nostr-2.zebedee.cloud:8ef29ed0e5d191bc9d5b751f4eccd20f1b13940df886527487245f6cfe9bc13d': <nostr.message_pool.EventMessage at 0x10c52bdc0>,\n",
       " 'wss://nostr-2.zebedee.cloud:af7dbd564948e9e7ef7a481041c7befedb5ec00b346ea033cd13db9201ff1b77': <nostr.message_pool.EventMessage at 0x10c52bd00>,\n",
       " 'wss://nostr-2.zebedee.cloud:27cf065883f63084af15bdfdab9e24d68126ca0ec1522675b47c05781e005888': <nostr.message_pool.EventMessage at 0x10c529a20>,\n",
       " 'wss://nostr-2.zebedee.cloud:b6b21ee8f696998d5f4f0a62cde449edab46353ba8c91ceeb5c9a15a3b895b85': <nostr.message_pool.EventMessage at 0x10c52bca0>,\n",
       " 'wss://nostr-2.zebedee.cloud:4d1c3b10f2e1f7a5fd655d323f2b4cade53284b9765a0ef15cdce6aec0b6fc88': <nostr.message_pool.EventMessage at 0x10c529c30>,\n",
       " 'wss://nostr-2.zebedee.cloud:260012d4b5ca660bca4f945d5c2cba0292c1a3f4a503244ba7a98a745cadd3cb': <nostr.message_pool.EventMessage at 0x10c52bcd0>,\n",
       " 'wss://nostr-2.zebedee.cloud:c84dde640953d1fba80ce80a58c489b6920d92fa3007875e31824d47a4c1b76d': <nostr.message_pool.EventMessage at 0x10c52bac0>,\n",
       " 'wss://nostr-2.zebedee.cloud:33af995f8df811609b91b31469b2df604f693b70664abb3aa572f318a0f9ed5e': <nostr.message_pool.EventMessage at 0x10c52ba30>,\n",
       " 'wss://nostr-2.zebedee.cloud:3691a8b3065ff9acf4588e3de3666715e40667cfcfff70aa8a593eadf1f7fa85': <nostr.message_pool.EventMessage at 0x10c52b9a0>,\n",
       " 'wss://nostr-2.zebedee.cloud:3fa85d5e7921e7210b6fc86482d69b201d32aff0196fdf4f023c274e64c9fd54': <nostr.message_pool.EventMessage at 0x10c529f90>,\n",
       " 'wss://relay.damus.io:ff348a6c240f607bcbd4dfe9f134ff5b34115457ad833116bd2fc3084f1d826d': <nostr.message_pool.EventMessage at 0x10c529db0>,\n",
       " 'wss://nostr-2.zebedee.cloud:ff348a6c240f607bcbd4dfe9f134ff5b34115457ad833116bd2fc3084f1d826d': <nostr.message_pool.EventMessage at 0x10c52bf70>,\n",
       " 'wss://relay.nostr.ch:ff348a6c240f607bcbd4dfe9f134ff5b34115457ad833116bd2fc3084f1d826d': <nostr.message_pool.EventMessage at 0x10c529cc0>}"
      ]
     },
     "execution_count": 9,
     "metadata": {},
     "output_type": "execute_result"
    }
   ],
   "source": [
    "test"
   ]
  },
  {
   "cell_type": "code",
   "execution_count": null,
   "metadata": {},
   "outputs": [],
   "source": []
  }
 ],
 "metadata": {
  "kernelspec": {
   "display_name": "nostr",
   "language": "python",
   "name": "python3"
  },
  "language_info": {
   "codemirror_mode": {
    "name": "ipython",
    "version": 3
   },
   "file_extension": ".py",
   "mimetype": "text/x-python",
   "name": "python",
   "nbconvert_exporter": "python",
   "pygments_lexer": "ipython3",
   "version": "3.10.8"
  },
  "orig_nbformat": 4,
  "vscode": {
   "interpreter": {
    "hash": "cfb5954440880a8bdfa8cd43661a47c215d8cad7a51efaf803159f1c33433c31"
   }
  }
 },
 "nbformat": 4,
 "nbformat_minor": 2
}
