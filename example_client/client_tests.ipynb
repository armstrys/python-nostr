{
 "cells": [
  {
   "cell_type": "code",
   "execution_count": 4,
   "metadata": {},
   "outputs": [],
   "source": [
    "import sys\n",
    "import time\n",
    "from pathlib import Path\n",
    "\n",
    "sys.path.append(str(Path('../').resolve()))\n",
    "assert 'python-nostr' in [Path(path).name for path in sys.path]\n",
    "\n",
    "from nostr.key import PrivateKey, PublicKey\n",
    "from client import ConnectedClient"
   ]
  },
  {
   "attachments": {},
   "cell_type": "markdown",
   "metadata": {},
   "source": [
    "## make a helper method to get a private key from disk\n",
    "or allow user input"
   ]
  },
  {
   "cell_type": "code",
   "execution_count": 5,
   "metadata": {},
   "outputs": [],
   "source": [
    "def get_private_key() -> str:\n",
    "    key_file = Path('./private_key.txt') # saving a private key for testing\n",
    "\n",
    "    if not key_file.exists():\n",
    "        pk_hex = input()\n",
    "        if len(pk_hex.strip()) == 0:\n",
    "            pk_hex = PrivateKey().hex()\n",
    "            print(f'generated new private key: {pk_hex}')\n",
    "        else:\n",
    "            print('using user private key')\n",
    "    else:\n",
    "        with open(key_file, 'r') as f:\n",
    "            pk_hex = f.read()\n",
    "            # private_key = PrivateKey(bytes.fromhex(hex))\n",
    "            private_key = PrivateKey.from_hex(pk_hex)\n",
    "        public_key = private_key.public_key\n",
    "        print(f'Loaded private key from {key_file}')\n",
    "        print(f'Public key: {public_key.bech32()}')\n",
    "    return pk_hex"
   ]
  },
  {
   "attachments": {},
   "cell_type": "markdown",
   "metadata": {},
   "source": [
    "# client\n",
    "instantiating a basic client and testing connections"
   ]
  },
  {
   "cell_type": "code",
   "execution_count": 3,
   "metadata": {},
   "outputs": [
    {
     "name": "stdout",
     "output_type": "stream",
     "text": [
      "Loaded private key from private_key.txt\n",
      "Public key: npub19nqc7plddvevd8sgfpahzuput0q9hwrfhk8crj9k73fpg8qwjx3sk6224n\n"
     ]
    },
    {
     "ename": "NameError",
     "evalue": "name 'ssl' is not defined",
     "output_type": "error",
     "traceback": [
      "\u001b[0;31m---------------------------------------------------------------------------\u001b[0m",
      "\u001b[0;31mNameError\u001b[0m                                 Traceback (most recent call last)",
      "Cell \u001b[0;32mIn[3], line 3\u001b[0m\n\u001b[1;32m      1\u001b[0m pk_hex \u001b[39m=\u001b[39m get_private_key()\n\u001b[0;32m----> 3\u001b[0m \u001b[39mwith\u001b[39;00m ConnectedClient(ssl_options\u001b[39m=\u001b[39m{\u001b[39m'\u001b[39m\u001b[39mcert_reqs\u001b[39m\u001b[39m'\u001b[39m: ssl\u001b[39m.\u001b[39mCERT_NONE},\n\u001b[1;32m      4\u001b[0m                      private_key_hex\u001b[39m=\u001b[39mpk_hex) \u001b[39mas\u001b[39;00m connected_client:\n\u001b[1;32m      5\u001b[0m     \u001b[39mprint\u001b[39m(\u001b[39mf\u001b[39m\u001b[39m'\u001b[39m\u001b[39mloaded public key is \u001b[39m\u001b[39m{\u001b[39;00mconnected_client\u001b[39m.\u001b[39mpublic_key\u001b[39m.\u001b[39mbech32()\u001b[39m}\u001b[39;00m\u001b[39m\\n\u001b[39;00m\u001b[39m'\u001b[39m)\n\u001b[1;32m      6\u001b[0m     \u001b[39mfor\u001b[39;00m relay \u001b[39min\u001b[39;00m connected_client\u001b[39m.\u001b[39mrelay_manager:\n",
      "\u001b[0;31mNameError\u001b[0m: name 'ssl' is not defined"
     ]
    }
   ],
   "source": [
    "pk_hex = get_private_key()\n",
    "\n",
    "with ConnectedClient(ssl_options={'cert_reqs': ssl.CERT_NONE},\n",
    "                     private_key_hex=pk_hex) as connected_client:\n",
    "    print(f'loaded public key is {connected_client.public_key.bech32()}\\n')\n",
    "    for relay in connected_client.relay_manager:\n",
    "        assert relay.ws.sock is not None\n",
    "        print(f'connection to {relay.url} is alive!')\n",
    "\n",
    "for relay in connected_client.relay_manager:\n",
    "    assert relay.ws.sock is None\n",
    "    print(f'connection to {relay.url} is dead.')"
   ]
  },
  {
   "attachments": {},
   "cell_type": "markdown",
   "metadata": {},
   "source": [
    "# make a simple text input client\n",
    "\n",
    "we will instantiate it with the proper options first"
   ]
  },
  {
   "cell_type": "code",
   "execution_count": 6,
   "metadata": {},
   "outputs": [
    {
     "name": "stdout",
     "output_type": "stream",
     "text": [
      "Loaded private key from private_key.txt\n",
      "Public key: npub19nqc7plddvevd8sgfpahzuput0q9hwrfhk8crj9k73fpg8qwjx3sk6224n\n"
     ]
    }
   ],
   "source": [
    "from client import TextInputClient\n",
    "import ssl\n",
    "\n",
    "pk_hex = get_private_key()\n",
    "\n",
    "text_client = TextInputClient(ssl_options={'cert_reqs': ssl.CERT_NONE}, private_key_hex=pk_hex)"
   ]
  },
  {
   "attachments": {},
   "cell_type": "markdown",
   "metadata": {},
   "source": [
    "## run it\n",
    "with a simple `with` context. the `__enter__` method calls the `run` command of the client so we can just call `pass` so that nothing else happens after we exit the `run` method before the we `__exit__` the clients and the connections are closed."
   ]
  },
  {
   "cell_type": "code",
   "execution_count": 7,
   "metadata": {},
   "outputs": [
    {
     "name": "stdout",
     "output_type": "stream",
     "text": [
      "select a command:\n",
      "                \t0\tE(x)it\n",
      "                \t1\tpublish note\n",
      "                \t2\tget last 10 notes by you\n",
      "                \t3\tget last 10 from hex of author\n",
      "                \t4\tdelete an event\n",
      "                \t5\tcheck deletions\n",
      "                \n",
      "author: 2cc18f07ed6b32c69e08487b71703c5bc05bb869bd8f81c8b6f452141c0e91a3\n",
      "event id:422c574a74f7668a38704f5b41dec69e3d18c91c3ebe14e1851ae9d54ee8ae02\n",
      "\tneeds to be deleted\n",
      "author: 2cc18f07ed6b32c69e08487b71703c5bc05bb869bd8f81c8b6f452141c0e91a3\n",
      "event id:0e639e25b666c32f219389f322641011f9f0506c8e0b407bcb574f4d503b9c47\n",
      "\tneed to delete\n",
      "author: 2cc18f07ed6b32c69e08487b71703c5bc05bb869bd8f81c8b6f452141c0e91a3\n",
      "event id:248c06f4a97b305a61b868f6f7f2813ae26804841325ae98d748ed1f15c75f16\n",
      "\ttesting\n",
      "author: 2cc18f07ed6b32c69e08487b71703c5bc05bb869bd8f81c8b6f452141c0e91a3\n",
      "event id:d8e2f9537ff58882b3e6ff95b44ad705c3f7f51208d8c17875921094f0cd25a7\n",
      "\ttesting deletion\n",
      "author: 2cc18f07ed6b32c69e08487b71703c5bc05bb869bd8f81c8b6f452141c0e91a3\n",
      "event id:036f6bbf40b2d76070a2e36426aa8221ab65d0707c9ef87afdbabff88335fca9\n",
      "\tthis was a test post and should be removed\n",
      "author: 2cc18f07ed6b32c69e08487b71703c5bc05bb869bd8f81c8b6f452141c0e91a3\n",
      "event id:53bedf9eb1775b5209afb90956ca8362f1fa027fb9904f8b3853f2df50b7ff5a\n",
      "\tthis was a test post and should be removed\n",
      "author: 2cc18f07ed6b32c69e08487b71703c5bc05bb869bd8f81c8b6f452141c0e91a3\n",
      "event id:71365aea53e7a5bfec5cce5294645ef17581e319549f6116f243e5aa677d1fa7\n",
      "\tthis was a test post and should be removed\n",
      "end of subscription: 2cc18f07ed6b32c69e08487b71703c5bc05bb869bd8f81c8b6f452141c0e91a3_last10deletes received.\n",
      "{'422c574a74f7668a38704f5b41dec69e3d18c91c3ebe14e1851ae9d54ee8ae02': <nostr.event.Event object at 0x1085c6050>, '0e639e25b666c32f219389f322641011f9f0506c8e0b407bcb574f4d503b9c47': <nostr.event.Event object at 0x108541990>, '248c06f4a97b305a61b868f6f7f2813ae26804841325ae98d748ed1f15c75f16': <nostr.event.Event object at 0x10835b6d0>, 'd8e2f9537ff58882b3e6ff95b44ad705c3f7f51208d8c17875921094f0cd25a7': <nostr.event.Event object at 0x10835bdc0>, '036f6bbf40b2d76070a2e36426aa8221ab65d0707c9ef87afdbabff88335fca9': <nostr.event.Event object at 0x10835acb0>, '53bedf9eb1775b5209afb90956ca8362f1fa027fb9904f8b3853f2df50b7ff5a': <nostr.event.Event object at 0x1084e5060>, '71365aea53e7a5bfec5cce5294645ef17581e319549f6116f243e5aa677d1fa7': <nostr.event.Event object at 0x105efcac0>}\n",
      "select a command:\n",
      "                \t0\tE(x)it\n",
      "                \t1\tpublish note\n",
      "                \t2\tget last 10 notes by you\n",
      "                \t3\tget last 10 from hex of author\n",
      "                \t4\tdelete an event\n",
      "                \t5\tcheck deletions\n",
      "                \n",
      "exiting\n"
     ]
    }
   ],
   "source": [
    "with text_client:\n",
    "    pass"
   ]
  },
  {
   "cell_type": "code",
   "execution_count": 9,
   "metadata": {},
   "outputs": [
    {
     "data": {
      "text/plain": [
       "{'id': '33af995f8df811609b91b31469b2df604f693b70664abb3aa572f318a0f9ed5e',\n",
       " 'pubkey': '2cc18f07ed6b32c69e08487b71703c5bc05bb869bd8f81c8b6f452141c0e91a3',\n",
       " 'created_at': 1672100307,\n",
       " 'kind': 1,\n",
       " 'tags': [],\n",
       " 'content': 'do something',\n",
       " 'sig': 'bc5c9496f337df686e7b5044acb53cbce8b083d675ff676faea0e7fa01d8692539c033cf51977e258f35db47ebfb01ffc0055d408501e4e69151ad74186ca6eb'}"
      ]
     },
     "execution_count": 9,
     "metadata": {},
     "output_type": "execute_result"
    }
   ],
   "source": [
    "text_client.message_store['33af995f8df811609b91b31469b2df604f693b70664abb3aa572f318a0f9ed5e']"
   ]
  },
  {
   "cell_type": "code",
   "execution_count": null,
   "metadata": {},
   "outputs": [],
   "source": []
  }
 ],
 "metadata": {
  "kernelspec": {
   "display_name": "nostr",
   "language": "python",
   "name": "python3"
  },
  "language_info": {
   "codemirror_mode": {
    "name": "ipython",
    "version": 3
   },
   "file_extension": ".py",
   "mimetype": "text/x-python",
   "name": "python",
   "nbconvert_exporter": "python",
   "pygments_lexer": "ipython3",
   "version": "3.10.8"
  },
  "orig_nbformat": 4,
  "vscode": {
   "interpreter": {
    "hash": "cfb5954440880a8bdfa8cd43661a47c215d8cad7a51efaf803159f1c33433c31"
   }
  }
 },
 "nbformat": 4,
 "nbformat_minor": 2
}
