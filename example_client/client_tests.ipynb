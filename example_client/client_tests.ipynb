{
 "cells": [
  {
   "cell_type": "code",
   "execution_count": 1,
   "metadata": {},
   "outputs": [],
   "source": [
    "import sys\n",
    "import time\n",
    "from pathlib import Path\n",
    "import ssl\n",
    "\n",
    "sys.path.append(str(Path('../').resolve()))\n",
    "assert 'python-nostr' in [Path(path).name for path in sys.path]\n",
    "\n",
    "from nostr.key import PrivateKey, PublicKey\n",
    "from client import Client"
   ]
  },
  {
   "attachments": {},
   "cell_type": "markdown",
   "metadata": {},
   "source": [
    "## I'm loading my key from disk"
   ]
  },
  {
   "cell_type": "code",
   "execution_count": 2,
   "metadata": {},
   "outputs": [
    {
     "name": "stdout",
     "output_type": "stream",
     "text": [
      "Loaded private key from private_key.txt\n",
      "Public key: npub19nqc7plddvevd8sgfpahzuput0q9hwrfhk8crj9k73fpg8qwjx3sk6224n\n"
     ]
    }
   ],
   "source": [
    "key_file = Path('./private_key.txt') # saving a private key for testing\n",
    "if key_file.exists():\n",
    "    with open(key_file, 'r') as f:\n",
    "        pk_hex = f.read()\n",
    "        private_key = PrivateKey.from_hex(pk_hex)\n",
    "    public_key = private_key.public_key\n",
    "    print(f'Loaded private key from {key_file}')\n",
    "    print(f'Public key: {public_key.bech32()}')\n",
    "else:\n",
    "    private_key = PrivateKey()\n",
    "    public_key = private_key.public_key\n",
    "    print(f\"Generated new private key\")\n",
    "    print(f\"Public key: {public_key.bech32()}\")\n",
    "    pk_hex = private_key.hex()\n",
    "    with open(key_file, 'w') as f:\n",
    "        f.write(pk_hex)"
   ]
  },
  {
   "cell_type": "code",
   "execution_count": 7,
   "metadata": {},
   "outputs": [
    {
     "name": "stdout",
     "output_type": "stream",
     "text": [
      "logged in as public key\n",
      "\tbech32: npub1sufw80nl4e5yz3dzyqqw3tzmshdjtpvsgguq0vmuz85pjzyps24seyql8f\n",
      "\thex: 8712e3be7fae684145a22000e8ac5b85db258590423807b37c11e819088182ab\n",
      "logged in as public key\n",
      "\tbech32: npub19nqc7plddvevd8sgfpahzuput0q9hwrfhk8crj9k73fpg8qwjx3sk6224n\n",
      "\thex: 2cc18f07ed6b32c69e08487b71703c5bc05bb869bd8f81c8b6f452141c0e91a3\n",
      "logged in as public key\n",
      "\tbech32: npub19nqc7plddvevd8sgfpahzuput0q9hwrfhk8crj9k73fpg8qwjx3sk6224n\n",
      "\thex: 2cc18f07ed6b32c69e08487b71703c5bc05bb869bd8f81c8b6f452141c0e91a3\n",
      "logged in as public key\n",
      "\tbech32: npub19nqc7plddvevd8sgfpahzuput0q9hwrfhk8crj9k73fpg8qwjx3sk6224n\n",
      "\thex: 2cc18f07ed6b32c69e08487b71703c5bc05bb869bd8f81c8b6f452141c0e91a3\n"
     ]
    }
   ],
   "source": [
    "# load client with no keys\n",
    "client = Client(ssl_options={'cert_reqs': ssl.CERT_NONE})\n",
    "\n",
    "# load client with public key only\n",
    "client = Client(ssl_options={'cert_reqs': ssl.CERT_NONE}, public_key_hex=public_key.hex())\n",
    "assert client.public_key.hex() == public_key.hex()\n",
    "assert client.private_key is None\n",
    "\n",
    "# load client with public key and private key\n",
    "client = Client(ssl_options={'cert_reqs': ssl.CERT_NONE}, public_key_hex=public_key.hex(), private_key_hex=pk_hex)\n",
    "assert client.public_key.hex() == public_key.hex()\n",
    "assert client.private_key.hex() == pk_hex\n",
    "\n",
    "# load client with private key only\n",
    "client = Client(ssl_options={'cert_reqs': ssl.CERT_NONE}, private_key_hex=pk_hex)\n",
    "assert client.public_key.hex() == public_key.hex()\n",
    "assert client.private_key.hex() == pk_hex\n"
   ]
  },
  {
   "attachments": {},
   "cell_type": "markdown",
   "metadata": {},
   "source": [
    "# client\n",
    "instantiating a basic client and testing connections"
   ]
  },
  {
   "cell_type": "code",
   "execution_count": 8,
   "metadata": {},
   "outputs": [
    {
     "name": "stdout",
     "output_type": "stream",
     "text": [
      "logged in as public key\n",
      "\tbech32: npub10ycmr932zl70mxv66uzp4ryketmkku4728t38knv0ngp6zp6m2fsqrmu07\n",
      "\thex: 7931b1962a17fcfd999ad7041a8c96caf76b72be51d713da6c7cd01d083ada93\n"
     ]
    },
    {
     "name": "stderr",
     "output_type": "stream",
     "text": [
      "/Users/ryanarmstrong/Documents/01_Programming/GitHub/python-nostr/example_client/client.py:101: UserWarning: could not connect to wss://nostr.zebedee.cloud... removing relay.\n",
      "  warnings.warn(\n"
     ]
    },
    {
     "name": "stdout",
     "output_type": "stream",
     "text": [
      "{'wss://nostr-2.zebedee.cloud': True, 'wss://relay.damus.io': True}\n",
      "exiting client\n",
      "{'wss://nostr-2.zebedee.cloud': False, 'wss://relay.damus.io': False}\n"
     ]
    }
   ],
   "source": [
    "client = Client(ssl_options={'cert_reqs': ssl.CERT_NONE})\n",
    "\n",
    "with client:\n",
    "    print(client.relay_manager.connection_statuses)\n",
    "    print('exiting client')\n",
    "print(client.relay_manager.connection_statuses)"
   ]
  },
  {
   "attachments": {},
   "cell_type": "markdown",
   "metadata": {},
   "source": [
    "# make a simple text input client\n",
    "\n",
    "we will instantiate it with the proper options first"
   ]
  },
  {
   "cell_type": "code",
   "execution_count": 4,
   "metadata": {},
   "outputs": [
    {
     "data": {
      "text/plain": [
       "'7fd7a07937911dd3c5a18a6a0cd10d896d7a31eb2613d3b0a57b4f5b101cca27'"
      ]
     },
     "execution_count": 4,
     "metadata": {},
     "output_type": "execute_result"
    }
   ],
   "source": [
    "pk_hex"
   ]
  },
  {
   "cell_type": "code",
   "execution_count": 12,
   "metadata": {},
   "outputs": [
    {
     "name": "stdout",
     "output_type": "stream",
     "text": [
      "could not generate private key from input. generating a new random key\n",
      "generated new private key: f7884ad2cc3908c9c710deaf16f4d08c9383e1cf234b67f30a6e5b98497bf8c6\n",
      "logged in as public key\n",
      "\tbech32: npub1eudk00kj3j77v8acj0lse9egl6k5ylmf9jh2y60rnmu2j74ppqmsw9dz7m\n",
      "\thex: cf1b67bed28cbde61fb893ff0c9728fead427f692caea269e39ef8a97aa10837\n"
     ]
    }
   ],
   "source": [
    "from client import TextInputClient\n",
    "import ssl\n",
    "\n",
    "text_client = TextInputClient(ssl_options={'cert_reqs': ssl.CERT_NONE}, allow_duplicates=False)"
   ]
  },
  {
   "attachments": {},
   "cell_type": "markdown",
   "metadata": {},
   "source": [
    "## run it\n",
    "with a simple `with` context. the `__enter__` method calls the `run` command of the client so we can just call `pass` so that nothing else happens after we exit the `run` method before the we `__exit__` the clients and the connections are closed."
   ]
  },
  {
   "cell_type": "code",
   "execution_count": 11,
   "metadata": {},
   "outputs": [
    {
     "name": "stdout",
     "output_type": "stream",
     "text": [
      "select a command:\n",
      "                \t0\tE(x)it\n",
      "                \t1\tpublish note\n",
      "                \t2\tget last 10 notes by you\n",
      "                \t3\tget last 10 from hex of author\n",
      "                \t4\tdelete an event\n",
      "                \t5\tcheck deletions\n",
      "                \t6\tget metadata by hex of user\n",
      "                \t7\tcheck event\n",
      "                \n",
      "exiting\n"
     ]
    }
   ],
   "source": [
    "with text_client:\n",
    "    pass"
   ]
  },
  {
   "cell_type": "code",
   "execution_count": 16,
   "metadata": {},
   "outputs": [],
   "source": [
    "test = text_client.message_store"
   ]
  },
  {
   "cell_type": "code",
   "execution_count": 17,
   "metadata": {},
   "outputs": [
    {
     "data": {
      "text/plain": [
       "{'id': '260012d4b5ca660bca4f945d5c2cba0292c1a3f4a503244ba7a98a745cadd3cb',\n",
       " 'pubkey': '2cc18f07ed6b32c69e08487b71703c5bc05bb869bd8f81c8b6f452141c0e91a3',\n",
       " 'created_at': 1672103350,\n",
       " 'kind': 1,\n",
       " 'tags': [],\n",
       " 'content': 'testing again',\n",
       " 'sig': '5be18991da6fc7d043a1793e4da1e5ac937964a496db82cfbc2c230ec6c3160b43ead76d45d15d1154ac8402c6be98503971c5d13678964a4611d251f4bfb089'}"
      ]
     },
     "execution_count": 17,
     "metadata": {},
     "output_type": "execute_result"
    }
   ],
   "source": [
    "test['wss://nostr-2.zebedee.cloud:260012d4b5ca660bca4f945d5c2cba0292c1a3f4a503244ba7a98a745cadd3cb'].event.to_json_object()"
   ]
  },
  {
   "cell_type": "code",
   "execution_count": 9,
   "metadata": {},
   "outputs": [
    {
     "data": {
      "text/plain": [
       "{'id': '260012d4b5ca660bca4f945d5c2cba0292c1a3f4a503244ba7a98a745cadd3cb',\n",
       " 'pubkey': '2cc18f07ed6b32c69e08487b71703c5bc05bb869bd8f81c8b6f452141c0e91a3',\n",
       " 'created_at': 1672103350,\n",
       " 'kind': 1,\n",
       " 'tags': [],\n",
       " 'content': 'testing again',\n",
       " 'sig': '5be18991da6fc7d043a1793e4da1e5ac937964a496db82cfbc2c230ec6c3160b43ead76d45d15d1154ac8402c6be98503971c5d13678964a4611d251f4bfb089'}"
      ]
     },
     "execution_count": 9,
     "metadata": {},
     "output_type": "execute_result"
    }
   ],
   "source": [
    "test['wss://nostr-2.zebedee.cloud:260012d4b5ca660bca4f945d5c2cba0292c1a3f4a503244ba7a98a745cadd3cb'].event.to_json_object()"
   ]
  },
  {
   "cell_type": "code",
   "execution_count": null,
   "metadata": {},
   "outputs": [],
   "source": [
    "raise"
   ]
  },
  {
   "cell_type": "code",
   "execution_count": 14,
   "metadata": {},
   "outputs": [
    {
     "data": {
      "text/plain": [
       "{'id': '422c574a74f7668a38704f5b41dec69e3d18c91c3ebe14e1851ae9d54ee8ae02',\n",
       " 'pubkey': '2cc18f07ed6b32c69e08487b71703c5bc05bb869bd8f81c8b6f452141c0e91a3',\n",
       " 'created_at': 1672103350,\n",
       " 'kind': 5,\n",
       " 'tags': [['e',\n",
       "   '260012d4b5ca660bca4f945d5c2cba0292c1a3f4a503244ba7a98a745cadd3cb']],\n",
       " 'content': 'needs to be deleted',\n",
       " 'sig': 'd3bd42f9459a4ee18f2d7eab1315acbd09077962846bf6faa56d7b929666fa54050d0c68ef7384bd763e6870c7b62713616e90f0732d7432636b432c8809ba7a'}"
      ]
     },
     "execution_count": 14,
     "metadata": {},
     "output_type": "execute_result"
    }
   ],
   "source": [
    "\n",
    "test['wss://nostr-2.zebedee.cloud:422c574a74f7668a38704f5b41dec69e3d18c91c3ebe14e1851ae9d54ee8ae02'].event.to_json_object()"
   ]
  },
  {
   "cell_type": "code",
   "execution_count": 10,
   "metadata": {},
   "outputs": [],
   "source": [
    "assert '260012d4b5ca660bca4f945d5c2cba0292c1a3f4a503244ba7a98a745cadd3cb' == '260012d4b5ca660bca4f945d5c2cba0292c1a3f4a503244ba7a98a745cadd3cb'"
   ]
  },
  {
   "cell_type": "code",
   "execution_count": null,
   "metadata": {},
   "outputs": [],
   "source": []
  }
 ],
 "metadata": {
  "kernelspec": {
   "display_name": "nostr",
   "language": "python",
   "name": "python3"
  },
  "language_info": {
   "codemirror_mode": {
    "name": "ipython",
    "version": 3
   },
   "file_extension": ".py",
   "mimetype": "text/x-python",
   "name": "python",
   "nbconvert_exporter": "python",
   "pygments_lexer": "ipython3",
   "version": "3.10.8"
  },
  "orig_nbformat": 4,
  "vscode": {
   "interpreter": {
    "hash": "cfb5954440880a8bdfa8cd43661a47c215d8cad7a51efaf803159f1c33433c31"
   }
  }
 },
 "nbformat": 4,
 "nbformat_minor": 2
}
