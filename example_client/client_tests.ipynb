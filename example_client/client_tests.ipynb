{
 "cells": [
  {
   "cell_type": "code",
   "execution_count": 1,
   "metadata": {},
   "outputs": [],
   "source": [
    "import sys\n",
    "from pathlib import Path\n",
    "\n",
    "sys.path.append(str(Path('../').resolve()))\n",
    "assert 'python-nostr' in [Path(path).name for path in sys.path]"
   ]
  },
  {
   "attachments": {},
   "cell_type": "markdown",
   "metadata": {},
   "source": [
    "# client\n",
    "instantiating a basic client"
   ]
  },
  {
   "cell_type": "code",
   "execution_count": 2,
   "metadata": {},
   "outputs": [],
   "source": [
    "import ssl\n",
    "\n",
    "from client import Client, ConnectedClient\n",
    "from nostr.key import PrivateKey\n",
    "\n",
    "pk_hex = PrivateKey().hex()\n",
    "client = Client(private_key_hex=pk_hex)"
   ]
  },
  {
   "cell_type": "code",
   "execution_count": 4,
   "metadata": {},
   "outputs": [
    {
     "name": "stdout",
     "output_type": "stream",
     "text": [
      "loaded public key is npub15nj7hnx4xwanpsqdf5uwvv5y0qua4mxujx0ledcw6z9ashhqjlrqhynpse\n",
      "\n",
      "connection to wss://nostr-2.zebedee.cloud is alive!\n",
      "connection to wss://nostr.zebedee.cloud is alive!\n",
      "connection to wss://nostr-relay.lnmarkets.com is alive!\n",
      "connection to wss://nostr-2.zebedee.cloud is dead.\n",
      "connection to wss://nostr.zebedee.cloud is dead.\n",
      "connection to wss://nostr-relay.lnmarkets.com is dead.\n"
     ]
    }
   ],
   "source": [
    "\n",
    "\n",
    "with ConnectedClient(ssl_options={'cert_reqs': ssl.CERT_NONE},\n",
    "                     private_key_hex=pk_hex) as connected_client:\n",
    "    print(f'loaded public key is {connected_client.public_key.bech32()}\\n')\n",
    "    for relay in connected_client.relay_manager:\n",
    "        assert relay.ws.sock is not None\n",
    "        print(f'connection to {relay.url} is alive!')\n",
    "\n",
    "for relay in connected_client.relay_manager:\n",
    "    assert relay.ws.sock is None\n",
    "    print(f'connection to {relay.url} is dead.')"
   ]
  },
  {
   "cell_type": "code",
   "execution_count": 2,
   "metadata": {},
   "outputs": [],
   "source": []
  }
 ],
 "metadata": {
  "kernelspec": {
   "display_name": "nostr",
   "language": "python",
   "name": "python3"
  },
  "language_info": {
   "codemirror_mode": {
    "name": "ipython",
    "version": 3
   },
   "file_extension": ".py",
   "mimetype": "text/x-python",
   "name": "python",
   "nbconvert_exporter": "python",
   "pygments_lexer": "ipython3",
   "version": "3.10.8"
  },
  "orig_nbformat": 4,
  "vscode": {
   "interpreter": {
    "hash": "cfb5954440880a8bdfa8cd43661a47c215d8cad7a51efaf803159f1c33433c31"
   }
  }
 },
 "nbformat": 4,
 "nbformat_minor": 2
}
