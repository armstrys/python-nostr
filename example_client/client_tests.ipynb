{
 "cells": [
  {
   "cell_type": "code",
   "execution_count": 1,
   "metadata": {},
   "outputs": [],
   "source": [
    "import sys\n",
    "import time\n",
    "from pathlib import Path\n",
    "import ssl\n",
    "\n",
    "sys.path.append(str(Path('../').resolve()))\n",
    "assert 'python-nostr' in [Path(path).name for path in sys.path]\n",
    "\n",
    "from nostr.key import PrivateKey, PublicKey\n",
    "from client import Client"
   ]
  },
  {
   "attachments": {},
   "cell_type": "markdown",
   "metadata": {},
   "source": [
    "## make a helper method to get a private key from disk\n",
    "or allow user input"
   ]
  },
  {
   "cell_type": "code",
   "execution_count": 2,
   "metadata": {},
   "outputs": [],
   "source": [
    "def get_private_key() -> str:\n",
    "    key_file = Path('./private_key.txt') # saving a private key for testing\n",
    "\n",
    "    if not key_file.exists():\n",
    "        pk_hex = input()\n",
    "        if len(pk_hex.strip()) == 0:\n",
    "            pk_hex = PrivateKey().hex()\n",
    "            print(f'generated new private key: {pk_hex}')\n",
    "        else:\n",
    "            print('using user private key')\n",
    "    else:\n",
    "        with open(key_file, 'r') as f:\n",
    "            pk_hex = f.read()\n",
    "            # private_key = PrivateKey(bytes.fromhex(hex))\n",
    "            private_key = PrivateKey.from_hex(pk_hex)\n",
    "        public_key = private_key.public_key\n",
    "        print(f'Loaded private key from {key_file}')\n",
    "        print(f'Public key: {public_key.bech32()}')\n",
    "    return pk_hex"
   ]
  },
  {
   "attachments": {},
   "cell_type": "markdown",
   "metadata": {},
   "source": [
    "# client\n",
    "instantiating a basic client and testing connections"
   ]
  },
  {
   "cell_type": "code",
   "execution_count": 3,
   "metadata": {},
   "outputs": [
    {
     "name": "stdout",
     "output_type": "stream",
     "text": [
      "Loaded private key from private_key.txt\n",
      "Public key: npub19nqc7plddvevd8sgfpahzuput0q9hwrfhk8crj9k73fpg8qwjx3sk6224n\n",
      "loaded public key is npub19nqc7plddvevd8sgfpahzuput0q9hwrfhk8crj9k73fpg8qwjx3sk6224n\n",
      "\n",
      "{'wss://nostr-2.zebedee.cloud': True, 'wss://nostr.zebedee.cloud': False, 'wss://relay.damus.io': True}\n",
      "exiting client\n",
      "{'wss://nostr-2.zebedee.cloud': False, 'wss://nostr.zebedee.cloud': False, 'wss://relay.damus.io': False}\n"
     ]
    }
   ],
   "source": [
    "pk_hex = get_private_key()\n",
    "\n",
    "client = Client(ssl_options={'cert_reqs': ssl.CERT_NONE},\n",
    "                private_key_hex=pk_hex)\n",
    "\n",
    "with client:\n",
    "    print(f'loaded public key is {client.public_key.bech32()}\\n')\n",
    "    print(client.relay_manager.connection_statuses)\n",
    "    print('exiting client')\n",
    "print(client.relay_manager.connection_statuses)"
   ]
  },
  {
   "attachments": {},
   "cell_type": "markdown",
   "metadata": {},
   "source": [
    "# make a simple text input client\n",
    "\n",
    "we will instantiate it with the proper options first"
   ]
  },
  {
   "cell_type": "code",
   "execution_count": 4,
   "metadata": {},
   "outputs": [
    {
     "name": "stdout",
     "output_type": "stream",
     "text": [
      "Loaded private key from private_key.txt\n",
      "Public key: npub19nqc7plddvevd8sgfpahzuput0q9hwrfhk8crj9k73fpg8qwjx3sk6224n\n"
     ]
    }
   ],
   "source": [
    "from client import TextInputClient\n",
    "import ssl\n",
    "\n",
    "pk_hex = get_private_key()\n",
    "\n",
    "text_client = TextInputClient(ssl_options={'cert_reqs': ssl.CERT_NONE}, private_key_hex=pk_hex, allow_duplicates=False)"
   ]
  },
  {
   "attachments": {},
   "cell_type": "markdown",
   "metadata": {},
   "source": [
    "## run it\n",
    "with a simple `with` context. the `__enter__` method calls the `run` command of the client so we can just call `pass` so that nothing else happens after we exit the `run` method before the we `__exit__` the clients and the connections are closed."
   ]
  },
  {
   "cell_type": "code",
   "execution_count": 13,
   "metadata": {},
   "outputs": [
    {
     "name": "stdout",
     "output_type": "stream",
     "text": [
      "select a command:\n",
      "                \t0\tE(x)it\n",
      "                \t1\tpublish note\n",
      "                \t2\tget last 10 notes by you\n",
      "                \t3\tget last 10 from hex of author\n",
      "                \t4\tdelete an event\n",
      "                \t5\tcheck deletions\n",
      "                \t6\tget metadata by hex of user\n",
      "                \t7\tcheck event\n",
      "                \n",
      "[\"EVENT\", {\"id\": \"5ba54a35d85c5a4fe5dfc92882f975cb4ba3781fbd376db06355399710b316b2\", \"pubkey\": \"2cc18f07ed6b32c69e08487b71703c5bc05bb869bd8f81c8b6f452141c0e91a3\", \"created_at\": 1672154318, \"kind\": 5, \"tags\": [[\"e\", \"260012d4b5ca660bca4f945d5c2cba0292c1a3f4a503244ba7a98a745cadd3cb\"]], \"content\": \"want to delete this note\", \"sig\": \"97142d36a1f04461ba134779a6289208f8992f888f9b4ec595ddca6cc633d58f398fd2733840e79f622cf2d6bb5a786dd85b7fd4694ecbc352c4dbba36303807\"}]\n",
      "select a command:\n",
      "                \t0\tE(x)it\n",
      "                \t1\tpublish note\n",
      "                \t2\tget last 10 notes by you\n",
      "                \t3\tget last 10 from hex of author\n",
      "                \t4\tdelete an event\n",
      "                \t5\tcheck deletions\n",
      "                \t6\tget metadata by hex of user\n",
      "                \t7\tcheck event\n",
      "                \n",
      "author: 2cc18f07ed6b32c69e08487b71703c5bc05bb869bd8f81c8b6f452141c0e91a3\n",
      "event id: 260012d4b5ca660bca4f945d5c2cba0292c1a3f4a503244ba7a98a745cadd3cb\n",
      "url: wss://nostr-2.zebedee.cloud\n",
      "\ttesting again\n",
      "end of subscription: 260012d4b5ca660bca4f945d5c2cba0292c1a3f4a503244ba7a98a745cadd3cb_single_event received.\n",
      "{'wss://nostr-2.zebedee.cloud:260012d4b5ca660bca4f945d5c2cba0292c1a3f4a503244ba7a98a745cadd3cb': <nostr.message_pool.EventMessage object at 0x110cfad40>}\n",
      "select a command:\n",
      "                \t0\tE(x)it\n",
      "                \t1\tpublish note\n",
      "                \t2\tget last 10 notes by you\n",
      "                \t3\tget last 10 from hex of author\n",
      "                \t4\tdelete an event\n",
      "                \t5\tcheck deletions\n",
      "                \t6\tget metadata by hex of user\n",
      "                \t7\tcheck event\n",
      "                \n",
      "exiting\n"
     ]
    }
   ],
   "source": [
    "with text_client:\n",
    "    pass"
   ]
  },
  {
   "cell_type": "code",
   "execution_count": 16,
   "metadata": {},
   "outputs": [],
   "source": [
    "test = text_client.message_store"
   ]
  },
  {
   "cell_type": "code",
   "execution_count": 17,
   "metadata": {},
   "outputs": [
    {
     "data": {
      "text/plain": [
       "{'id': '260012d4b5ca660bca4f945d5c2cba0292c1a3f4a503244ba7a98a745cadd3cb',\n",
       " 'pubkey': '2cc18f07ed6b32c69e08487b71703c5bc05bb869bd8f81c8b6f452141c0e91a3',\n",
       " 'created_at': 1672103350,\n",
       " 'kind': 1,\n",
       " 'tags': [],\n",
       " 'content': 'testing again',\n",
       " 'sig': '5be18991da6fc7d043a1793e4da1e5ac937964a496db82cfbc2c230ec6c3160b43ead76d45d15d1154ac8402c6be98503971c5d13678964a4611d251f4bfb089'}"
      ]
     },
     "execution_count": 17,
     "metadata": {},
     "output_type": "execute_result"
    }
   ],
   "source": [
    "test['wss://nostr-2.zebedee.cloud:260012d4b5ca660bca4f945d5c2cba0292c1a3f4a503244ba7a98a745cadd3cb'].event.to_json_object()"
   ]
  },
  {
   "cell_type": "code",
   "execution_count": 9,
   "metadata": {},
   "outputs": [
    {
     "data": {
      "text/plain": [
       "{'id': '260012d4b5ca660bca4f945d5c2cba0292c1a3f4a503244ba7a98a745cadd3cb',\n",
       " 'pubkey': '2cc18f07ed6b32c69e08487b71703c5bc05bb869bd8f81c8b6f452141c0e91a3',\n",
       " 'created_at': 1672103350,\n",
       " 'kind': 1,\n",
       " 'tags': [],\n",
       " 'content': 'testing again',\n",
       " 'sig': '5be18991da6fc7d043a1793e4da1e5ac937964a496db82cfbc2c230ec6c3160b43ead76d45d15d1154ac8402c6be98503971c5d13678964a4611d251f4bfb089'}"
      ]
     },
     "execution_count": 9,
     "metadata": {},
     "output_type": "execute_result"
    }
   ],
   "source": [
    "test['wss://nostr-2.zebedee.cloud:260012d4b5ca660bca4f945d5c2cba0292c1a3f4a503244ba7a98a745cadd3cb'].event.to_json_object()"
   ]
  },
  {
   "cell_type": "code",
   "execution_count": null,
   "metadata": {},
   "outputs": [],
   "source": [
    "raise"
   ]
  },
  {
   "cell_type": "code",
   "execution_count": 14,
   "metadata": {},
   "outputs": [
    {
     "data": {
      "text/plain": [
       "{'id': '422c574a74f7668a38704f5b41dec69e3d18c91c3ebe14e1851ae9d54ee8ae02',\n",
       " 'pubkey': '2cc18f07ed6b32c69e08487b71703c5bc05bb869bd8f81c8b6f452141c0e91a3',\n",
       " 'created_at': 1672103350,\n",
       " 'kind': 5,\n",
       " 'tags': [['e',\n",
       "   '260012d4b5ca660bca4f945d5c2cba0292c1a3f4a503244ba7a98a745cadd3cb']],\n",
       " 'content': 'needs to be deleted',\n",
       " 'sig': 'd3bd42f9459a4ee18f2d7eab1315acbd09077962846bf6faa56d7b929666fa54050d0c68ef7384bd763e6870c7b62713616e90f0732d7432636b432c8809ba7a'}"
      ]
     },
     "execution_count": 14,
     "metadata": {},
     "output_type": "execute_result"
    }
   ],
   "source": [
    "\n",
    "test['wss://nostr-2.zebedee.cloud:422c574a74f7668a38704f5b41dec69e3d18c91c3ebe14e1851ae9d54ee8ae02'].event.to_json_object()"
   ]
  },
  {
   "cell_type": "code",
   "execution_count": 10,
   "metadata": {},
   "outputs": [],
   "source": [
    "assert '260012d4b5ca660bca4f945d5c2cba0292c1a3f4a503244ba7a98a745cadd3cb' == '260012d4b5ca660bca4f945d5c2cba0292c1a3f4a503244ba7a98a745cadd3cb'"
   ]
  },
  {
   "cell_type": "code",
   "execution_count": null,
   "metadata": {},
   "outputs": [],
   "source": []
  }
 ],
 "metadata": {
  "kernelspec": {
   "display_name": "nostr",
   "language": "python",
   "name": "python3"
  },
  "language_info": {
   "codemirror_mode": {
    "name": "ipython",
    "version": 3
   },
   "file_extension": ".py",
   "mimetype": "text/x-python",
   "name": "python",
   "nbconvert_exporter": "python",
   "pygments_lexer": "ipython3",
   "version": "3.10.8"
  },
  "orig_nbformat": 4,
  "vscode": {
   "interpreter": {
    "hash": "cfb5954440880a8bdfa8cd43661a47c215d8cad7a51efaf803159f1c33433c31"
   }
  }
 },
 "nbformat": 4,
 "nbformat_minor": 2
}
