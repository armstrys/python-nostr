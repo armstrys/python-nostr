{
 "cells": [
  {
   "cell_type": "code",
   "execution_count": 1,
   "metadata": {},
   "outputs": [],
   "source": [
    "import sys\n",
    "import time\n",
    "from pathlib import Path\n",
    "import ssl\n",
    "\n",
    "sys.path.append(str(Path('../').resolve()))\n",
    "assert 'python-nostr' in [Path(path).name for path in sys.path]\n",
    "\n",
    "from nostr.key import PrivateKey, PublicKey\n",
    "from client import ConnectedClient"
   ]
  },
  {
   "attachments": {},
   "cell_type": "markdown",
   "metadata": {},
   "source": [
    "## make a helper method to get a private key from disk\n",
    "or allow user input"
   ]
  },
  {
   "cell_type": "code",
   "execution_count": 2,
   "metadata": {},
   "outputs": [],
   "source": [
    "def get_private_key() -> str:\n",
    "    key_file = Path('./private_key.txt') # saving a private key for testing\n",
    "\n",
    "    if not key_file.exists():\n",
    "        pk_hex = input()\n",
    "        if len(pk_hex.strip()) == 0:\n",
    "            pk_hex = PrivateKey().hex()\n",
    "            print(f'generated new private key: {pk_hex}')\n",
    "        else:\n",
    "            print('using user private key')\n",
    "    else:\n",
    "        with open(key_file, 'r') as f:\n",
    "            pk_hex = f.read()\n",
    "            # private_key = PrivateKey(bytes.fromhex(hex))\n",
    "            private_key = PrivateKey.from_hex(pk_hex)\n",
    "        public_key = private_key.public_key\n",
    "        print(f'Loaded private key from {key_file}')\n",
    "        print(f'Public key: {public_key.bech32()}')\n",
    "    return pk_hex"
   ]
  },
  {
   "attachments": {},
   "cell_type": "markdown",
   "metadata": {},
   "source": [
    "# client\n",
    "instantiating a basic client and testing connections"
   ]
  },
  {
   "cell_type": "code",
   "execution_count": 3,
   "metadata": {},
   "outputs": [
    {
     "name": "stdout",
     "output_type": "stream",
     "text": [
      "Loaded private key from private_key.txt\n",
      "Public key: npub19nqc7plddvevd8sgfpahzuput0q9hwrfhk8crj9k73fpg8qwjx3sk6224n\n",
      "loaded public key is npub19nqc7plddvevd8sgfpahzuput0q9hwrfhk8crj9k73fpg8qwjx3sk6224n\n",
      "\n",
      "connection to wss://nostr-2.zebedee.cloud is alive!\n",
      "connection to wss://nostr-2.zebedee.cloud is dead.\n"
     ]
    }
   ],
   "source": [
    "pk_hex = get_private_key()\n",
    "\n",
    "with ConnectedClient(ssl_options={'cert_reqs': ssl.CERT_NONE},\n",
    "                     private_key_hex=pk_hex) as connected_client:\n",
    "    print(f'loaded public key is {connected_client.public_key.bech32()}\\n')\n",
    "    for relay in connected_client.relay_manager:\n",
    "        assert relay.ws.sock is not None\n",
    "        print(f'connection to {relay.url} is alive!')\n",
    "\n",
    "for relay in connected_client.relay_manager:\n",
    "    assert relay.ws.sock is None\n",
    "    print(f'connection to {relay.url} is dead.')"
   ]
  },
  {
   "attachments": {},
   "cell_type": "markdown",
   "metadata": {},
   "source": [
    "# make a simple text input client\n",
    "\n",
    "we will instantiate it with the proper options first"
   ]
  },
  {
   "cell_type": "code",
   "execution_count": 5,
   "metadata": {},
   "outputs": [
    {
     "name": "stdout",
     "output_type": "stream",
     "text": [
      "Loaded private key from private_key.txt\n",
      "Public key: npub19nqc7plddvevd8sgfpahzuput0q9hwrfhk8crj9k73fpg8qwjx3sk6224n\n"
     ]
    }
   ],
   "source": [
    "from client import TextInputClient\n",
    "import ssl\n",
    "\n",
    "pk_hex = get_private_key()\n",
    "\n",
    "text_client = TextInputClient(ssl_options={'cert_reqs': ssl.CERT_NONE}, private_key_hex=pk_hex, allow_duplicates=False)"
   ]
  },
  {
   "attachments": {},
   "cell_type": "markdown",
   "metadata": {},
   "source": [
    "## run it\n",
    "with a simple `with` context. the `__enter__` method calls the `run` command of the client so we can just call `pass` so that nothing else happens after we exit the `run` method before the we `__exit__` the clients and the connections are closed."
   ]
  },
  {
   "cell_type": "code",
   "execution_count": 6,
   "metadata": {},
   "outputs": [
    {
     "name": "stdout",
     "output_type": "stream",
     "text": [
      "select a command:\n",
      "                \t0\tE(x)it\n",
      "                \t1\tpublish note\n",
      "                \t2\tget last 10 notes by you\n",
      "                \t3\tget last 10 from hex of author\n",
      "                \t4\tdelete an event\n",
      "                \t5\tcheck deletions\n",
      "                \t6\tget metadata by hex of user\n",
      "                \n",
      "author: 2cc18f07ed6b32c69e08487b71703c5bc05bb869bd8f81c8b6f452141c0e91a3\n",
      "event id: 27cf065883f63084af15bdfdab9e24d68126ca0ec1522675b47c05781e005888\n",
      "\tthis is but a test\n",
      "author: 2cc18f07ed6b32c69e08487b71703c5bc05bb869bd8f81c8b6f452141c0e91a3\n",
      "event id: b6b21ee8f696998d5f4f0a62cde449edab46353ba8c91ceeb5c9a15a3b895b85\n",
      "\tplease ignore this test\n",
      "author: 2cc18f07ed6b32c69e08487b71703c5bc05bb869bd8f81c8b6f452141c0e91a3\n",
      "event id: 4d1c3b10f2e1f7a5fd655d323f2b4cade53284b9765a0ef15cdce6aec0b6fc88\n",
      "\ttest!\n",
      "author: 2cc18f07ed6b32c69e08487b71703c5bc05bb869bd8f81c8b6f452141c0e91a3\n",
      "event id: 260012d4b5ca660bca4f945d5c2cba0292c1a3f4a503244ba7a98a745cadd3cb\n",
      "\ttesting again\n",
      "author: 2cc18f07ed6b32c69e08487b71703c5bc05bb869bd8f81c8b6f452141c0e91a3\n",
      "event id: c84dde640953d1fba80ce80a58c489b6920d92fa3007875e31824d47a4c1b76d\n",
      "\tthis note needs to be deleted\n",
      "author: 2cc18f07ed6b32c69e08487b71703c5bc05bb869bd8f81c8b6f452141c0e91a3\n",
      "event id: 33af995f8df811609b91b31469b2df604f693b70664abb3aa572f318a0f9ed5e\n",
      "\tdo something\n",
      "author: 2cc18f07ed6b32c69e08487b71703c5bc05bb869bd8f81c8b6f452141c0e91a3\n",
      "event id: 3691a8b3065ff9acf4588e3de3666715e40667cfcfff70aa8a593eadf1f7fa85\n",
      "\thi :)\n",
      "author: 2cc18f07ed6b32c69e08487b71703c5bc05bb869bd8f81c8b6f452141c0e91a3\n",
      "event id: 3fa85d5e7921e7210b6fc86482d69b201d32aff0196fdf4f023c274e64c9fd54\n",
      "\tcan anyone here me\n",
      "author: 2cc18f07ed6b32c69e08487b71703c5bc05bb869bd8f81c8b6f452141c0e91a3\n",
      "event id: 8eeb55a60042f0cebe0b2431a704b6376f21558f07dec0f1426dc02e1ba96fd2\n",
      "\tthis is a test... \n",
      "author: 2cc18f07ed6b32c69e08487b71703c5bc05bb869bd8f81c8b6f452141c0e91a3\n",
      "event id: f5723328d7cb1f891f038eba9eff1f518cb7c922c313a8ce4d888f510546a2f9\n",
      "\ttest\n",
      "end of subscription: 2cc18f07ed6b32c69e08487b71703c5bc05bb869bd8f81c8b6f452141c0e91a3_last10 received.\n",
      "{'27cf065883f63084af15bdfdab9e24d68126ca0ec1522675b47c05781e005888': <nostr.message_pool.EventMessage object at 0x10f352e00>, 'b6b21ee8f696998d5f4f0a62cde449edab46353ba8c91ceeb5c9a15a3b895b85': <nostr.message_pool.EventMessage object at 0x10f8d91e0>, '4d1c3b10f2e1f7a5fd655d323f2b4cade53284b9765a0ef15cdce6aec0b6fc88': <nostr.message_pool.EventMessage object at 0x10f8d8880>, '260012d4b5ca660bca4f945d5c2cba0292c1a3f4a503244ba7a98a745cadd3cb': <nostr.message_pool.EventMessage object at 0x10f8d9720>, 'c84dde640953d1fba80ce80a58c489b6920d92fa3007875e31824d47a4c1b76d': <nostr.message_pool.EventMessage object at 0x10f8d93c0>, '33af995f8df811609b91b31469b2df604f693b70664abb3aa572f318a0f9ed5e': <nostr.message_pool.EventMessage object at 0x10f8d8700>, '3691a8b3065ff9acf4588e3de3666715e40667cfcfff70aa8a593eadf1f7fa85': <nostr.message_pool.EventMessage object at 0x10f8d90f0>, '3fa85d5e7921e7210b6fc86482d69b201d32aff0196fdf4f023c274e64c9fd54': <nostr.message_pool.EventMessage object at 0x10f8d9360>, '8eeb55a60042f0cebe0b2431a704b6376f21558f07dec0f1426dc02e1ba96fd2': <nostr.message_pool.EventMessage object at 0x10f8dab30>, 'f5723328d7cb1f891f038eba9eff1f518cb7c922c313a8ce4d888f510546a2f9': <nostr.message_pool.EventMessage object at 0x10f8dab60>}\n",
      "select a command:\n",
      "                \t0\tE(x)it\n",
      "                \t1\tpublish note\n",
      "                \t2\tget last 10 notes by you\n",
      "                \t3\tget last 10 from hex of author\n",
      "                \t4\tdelete an event\n",
      "                \t5\tcheck deletions\n",
      "                \t6\tget metadata by hex of user\n",
      "                \n",
      "exiting\n"
     ]
    }
   ],
   "source": [
    "with text_client:\n",
    "    pass"
   ]
  },
  {
   "cell_type": "code",
   "execution_count": 8,
   "metadata": {},
   "outputs": [],
   "source": [
    "test = text_client.message_store.get('7a1d36ce5dec9ff7bb1771d61bf6f71895400ce57f0919313a8dfc87772dda1c')"
   ]
  },
  {
   "cell_type": "code",
   "execution_count": 10,
   "metadata": {},
   "outputs": [
    {
     "data": {
      "text/plain": [
       "'wss://nostr-2.zebedee.cloud'"
      ]
     },
     "execution_count": 10,
     "metadata": {},
     "output_type": "execute_result"
    }
   ],
   "source": [
    "test.url"
   ]
  },
  {
   "cell_type": "code",
   "execution_count": null,
   "metadata": {},
   "outputs": [],
   "source": []
  }
 ],
 "metadata": {
  "kernelspec": {
   "display_name": "nostr",
   "language": "python",
   "name": "python3"
  },
  "language_info": {
   "codemirror_mode": {
    "name": "ipython",
    "version": 3
   },
   "file_extension": ".py",
   "mimetype": "text/x-python",
   "name": "python",
   "nbconvert_exporter": "python",
   "pygments_lexer": "ipython3",
   "version": "3.10.8"
  },
  "orig_nbformat": 4,
  "vscode": {
   "interpreter": {
    "hash": "cfb5954440880a8bdfa8cd43661a47c215d8cad7a51efaf803159f1c33433c31"
   }
  }
 },
 "nbformat": 4,
 "nbformat_minor": 2
}
