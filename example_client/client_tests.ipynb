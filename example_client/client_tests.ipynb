{
 "cells": [
  {
   "cell_type": "code",
   "execution_count": 1,
   "metadata": {},
   "outputs": [],
   "source": [
    "import sys\n",
    "import time\n",
    "from pathlib import Path\n",
    "\n",
    "sys.path.append(str(Path('../').resolve()))\n",
    "assert 'python-nostr' in [Path(path).name for path in sys.path]\n",
    "\n",
    "from nostr.key import PrivateKey, PublicKey\n",
    "from client import ConnectedClient"
   ]
  },
  {
   "attachments": {},
   "cell_type": "markdown",
   "metadata": {},
   "source": [
    "## make a helper method to get a private key from disk\n",
    "or allow user input"
   ]
  },
  {
   "cell_type": "code",
   "execution_count": 2,
   "metadata": {},
   "outputs": [],
   "source": [
    "def get_private_key() -> str:\n",
    "    key_file = Path('./private_key.txt') # saving a private key for testing\n",
    "\n",
    "    if not key_file.exists():\n",
    "        pk_hex = input()\n",
    "        if len(pk_hex.strip()) == 0:\n",
    "            pk_hex = PrivateKey().hex()\n",
    "            print(f'generated new private key: {pk_hex}')\n",
    "        else:\n",
    "            print('using user private key')\n",
    "    else:\n",
    "        with open(key_file, 'r') as f:\n",
    "            pk_hex = f.read()\n",
    "            # private_key = PrivateKey(bytes.fromhex(hex))\n",
    "            private_key = PrivateKey.from_hex(pk_hex)\n",
    "        public_key = private_key.public_key\n",
    "        print(f'Loaded private key from {key_file}')\n",
    "        print(f'Public key: {public_key.bech32()}')\n",
    "    return pk_hex"
   ]
  },
  {
   "attachments": {},
   "cell_type": "markdown",
   "metadata": {},
   "source": [
    "# client\n",
    "instantiating a basic client and testing connections"
   ]
  },
  {
   "cell_type": "code",
   "execution_count": 6,
   "metadata": {},
   "outputs": [
    {
     "name": "stdout",
     "output_type": "stream",
     "text": [
      "Loaded private key from private_key.txt\n",
      "Public key: npub19nqc7plddvevd8sgfpahzuput0q9hwrfhk8crj9k73fpg8qwjx3sk6224n\n",
      "loaded public key is npub19nqc7plddvevd8sgfpahzuput0q9hwrfhk8crj9k73fpg8qwjx3sk6224n\n",
      "\n",
      "connection to wss://nostr-2.zebedee.cloud is alive!\n",
      "connection to wss://nostr.zebedee.cloud is alive!\n",
      "connection to wss://relay.damus.io is alive!\n",
      "connection to wss://nostr-2.zebedee.cloud is dead.\n",
      "connection to wss://nostr.zebedee.cloud is dead.\n",
      "connection to wss://relay.damus.io is dead.\n"
     ]
    }
   ],
   "source": [
    "pk_hex = get_private_key()\n",
    "\n",
    "with ConnectedClient(ssl_options={'cert_reqs': ssl.CERT_NONE},\n",
    "                     private_key_hex=pk_hex) as connected_client:\n",
    "    print(f'loaded public key is {connected_client.public_key.bech32()}\\n')\n",
    "    for relay in connected_client.relay_manager:\n",
    "        assert relay.ws.sock is not None\n",
    "        print(f'connection to {relay.url} is alive!')\n",
    "\n",
    "for relay in connected_client.relay_manager:\n",
    "    assert relay.ws.sock is None\n",
    "    print(f'connection to {relay.url} is dead.')"
   ]
  },
  {
   "attachments": {},
   "cell_type": "markdown",
   "metadata": {},
   "source": [
    "# make a simple text input client\n",
    "\n",
    "we will instantiate it with the proper options first"
   ]
  },
  {
   "cell_type": "code",
   "execution_count": 3,
   "metadata": {},
   "outputs": [
    {
     "name": "stdout",
     "output_type": "stream",
     "text": [
      "Loaded private key from private_key.txt\n",
      "Public key: npub19nqc7plddvevd8sgfpahzuput0q9hwrfhk8crj9k73fpg8qwjx3sk6224n\n"
     ]
    }
   ],
   "source": [
    "from client import TextInputClient\n",
    "import ssl\n",
    "\n",
    "pk_hex = get_private_key()\n",
    "\n",
    "text_client = TextInputClient(ssl_options={'cert_reqs': ssl.CERT_NONE}, private_key_hex=pk_hex)"
   ]
  },
  {
   "attachments": {},
   "cell_type": "markdown",
   "metadata": {},
   "source": [
    "## run it\n",
    "with a simple `with` context. the `__enter__` method calls the `run` command of the client so we can just call `pass` so that nothing else happens after we exit the `run` method before the we `__exit__` the clients and the connections are closed."
   ]
  },
  {
   "cell_type": "code",
   "execution_count": 4,
   "metadata": {},
   "outputs": [
    {
     "name": "stdout",
     "output_type": "stream",
     "text": [
      "select a command:\n",
      "                \t0\tE(x)it\n",
      "                \t1\tpublish note\n",
      "                \n",
      "\u001b[H\u001b[2JEnter a text note:\n",
      "\n",
      "is this note correct?\n",
      "\n",
      "testing\n",
      "returning to menu\n",
      "select a command:\n",
      "                \t0\tE(x)it\n",
      "                \t1\tpublish note\n",
      "                \n",
      "\u001b[H\u001b[2Jcommand not found. returning to menu\n",
      "select a command:\n",
      "                \t0\tE(x)it\n",
      "                \t1\tpublish note\n",
      "                \n",
      "\u001b[H\u001b[2Jcommand not found. returning to menu\n",
      "select a command:\n",
      "                \t0\tE(x)it\n",
      "                \t1\tpublish note\n",
      "                \n",
      "\u001b[H\u001b[2Jexiting\n"
     ]
    }
   ],
   "source": [
    "with text_client:\n",
    "    pass"
   ]
  },
  {
   "cell_type": "code",
   "execution_count": null,
   "metadata": {},
   "outputs": [],
   "source": []
  }
 ],
 "metadata": {
  "kernelspec": {
   "display_name": "nostr",
   "language": "python",
   "name": "python3"
  },
  "language_info": {
   "codemirror_mode": {
    "name": "ipython",
    "version": 3
   },
   "file_extension": ".py",
   "mimetype": "text/x-python",
   "name": "python",
   "nbconvert_exporter": "python",
   "pygments_lexer": "ipython3",
   "version": "3.10.8"
  },
  "orig_nbformat": 4,
  "vscode": {
   "interpreter": {
    "hash": "cfb5954440880a8bdfa8cd43661a47c215d8cad7a51efaf803159f1c33433c31"
   }
  }
 },
 "nbformat": 4,
 "nbformat_minor": 2
}
